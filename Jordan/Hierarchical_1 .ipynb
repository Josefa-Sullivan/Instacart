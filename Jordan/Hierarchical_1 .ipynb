{
 "cells": [
  {
   "cell_type": "code",
   "execution_count": 2,
   "metadata": {},
   "outputs": [],
   "source": [
    "from __future__ import print_function\n",
    "import pandas as pd\n",
    "import numpy as np\n",
    "import matplotlib.pyplot as plt\n",
    "%matplotlib inline\n",
    "\n",
    "from sklearn.cluster import AgglomerativeClustering\n",
    "hier = AgglomerativeClustering()\n",
    "from sklearn.metrics.pairwise import pairwise_distances\n",
    "from scipy.cluster.hierarchy import dendrogram, linkage\n",
    "from scipy.spatial.distance import pdist, squareform"
   ]
  },
  {
   "cell_type": "markdown",
   "metadata": {},
   "source": [
    "#### All"
   ]
  },
  {
   "cell_type": "code",
   "execution_count": 3,
   "metadata": {},
   "outputs": [],
   "source": [
    "df = pd.read_csv('../data/user_summary.csv')[['user_id','total_prod_morning','total_prod_lunch',\\\n",
    "                                              'total_prod_afternoon','total_prod_evening','total_prod_afterhours',\\\n",
    "                                              'total_prod_early_week','total_prod_late_week','total_prod_weekend',\\\n",
    "                                              'med_products', 'med_days', 'med_reordered']]"
   ]
  },
  {
   "cell_type": "markdown",
   "metadata": {},
   "source": [
    "#### Segments"
   ]
  },
  {
   "cell_type": "code",
   "execution_count": 4,
   "metadata": {},
   "outputs": [],
   "source": [
    "parents = pd.read_csv('../data/parents.csv')\n",
    "drinks = pd.read_csv('../data/drinkers.csv')\n",
    "pets = pd.read_csv('../data/pet_owners.csv')\n",
    "\n",
    "df_parents = pd.merge(parents, df, how='left', left_on='user_id', right_on='user_id')\n",
    "df_drinks = pd.merge(drinks, df, how='left', left_on='user_id', right_on='user_id')\n",
    "df_pets = pd.merge(pets, df, how='left', left_on='user_id', right_on='user_id')"
   ]
  },
  {
   "cell_type": "code",
   "execution_count": 5,
   "metadata": {},
   "outputs": [],
   "source": [
    "df = df.drop(['user_id'], axis=1)\n",
    "df_parents = df_parents.drop(['user_id'], axis=1)\n",
    "df_drinks = df_drinks.drop(['user_id'], axis=1)\n",
    "df_pets = df_pets.drop(['user_id'], axis=1)"
   ]
  },
  {
   "cell_type": "code",
   "execution_count": 6,
   "metadata": {},
   "outputs": [],
   "source": [
    "def linkage_frame(data):\n",
    "    row_clusters = linkage(data, method='complete', metric='euclidean')\n",
    "    columns = ['row label 1', 'row label 2', 'distance', 'no. items in clust.']\n",
    "    index = ['cluster %d' % (i + 1) for i in range(row_clusters.shape[0])]\n",
    "    linkage_df = pd.DataFrame(row_clusters, columns=columns, index=index)\n",
    "    return linkage_df"
   ]
  },
  {
   "cell_type": "markdown",
   "metadata": {},
   "source": [
    "### All"
   ]
  },
  {
   "cell_type": "code",
   "execution_count": null,
   "metadata": {},
   "outputs": [],
   "source": [
    "# I've killed 3 kernels. The full df is too large for this method.\n",
    "linkage_df = linkage_frame(df)"
   ]
  },
  {
   "cell_type": "markdown",
   "metadata": {},
   "source": [
    "### Parents"
   ]
  },
  {
   "cell_type": "code",
   "execution_count": 7,
   "metadata": {},
   "outputs": [],
   "source": [
    "# Even this was super heavy\n",
    "linkage_df = linkage_frame(df_parents)"
   ]
  },
  {
   "cell_type": "code",
   "execution_count": 17,
   "metadata": {},
   "outputs": [
    {
     "data": {
      "text/html": [
       "<div>\n",
       "<style scoped>\n",
       "    .dataframe tbody tr th:only-of-type {\n",
       "        vertical-align: middle;\n",
       "    }\n",
       "\n",
       "    .dataframe tbody tr th {\n",
       "        vertical-align: top;\n",
       "    }\n",
       "\n",
       "    .dataframe thead th {\n",
       "        text-align: right;\n",
       "    }\n",
       "</style>\n",
       "<table border=\"1\" class=\"dataframe\">\n",
       "  <thead>\n",
       "    <tr style=\"text-align: right;\">\n",
       "      <th></th>\n",
       "      <th>row label 1</th>\n",
       "      <th>row label 2</th>\n",
       "      <th>distance</th>\n",
       "      <th>no. items in clust.</th>\n",
       "    </tr>\n",
       "  </thead>\n",
       "  <tbody>\n",
       "    <tr>\n",
       "      <td>cluster 7047</td>\n",
       "      <td>6856.0</td>\n",
       "      <td>21873.0</td>\n",
       "      <td>35.142963</td>\n",
       "      <td>2.0</td>\n",
       "    </tr>\n",
       "    <tr>\n",
       "      <td>cluster 2316</td>\n",
       "      <td>4651.0</td>\n",
       "      <td>21315.0</td>\n",
       "      <td>23.369248</td>\n",
       "      <td>2.0</td>\n",
       "    </tr>\n",
       "    <tr>\n",
       "      <td>cluster 1847</td>\n",
       "      <td>35364.0</td>\n",
       "      <td>35583.0</td>\n",
       "      <td>21.983151</td>\n",
       "      <td>7.0</td>\n",
       "    </tr>\n",
       "    <tr>\n",
       "      <td>cluster 25173</td>\n",
       "      <td>30136.0</td>\n",
       "      <td>55493.0</td>\n",
       "      <td>98.356644</td>\n",
       "      <td>3.0</td>\n",
       "    </tr>\n",
       "    <tr>\n",
       "      <td>cluster 16201</td>\n",
       "      <td>16622.0</td>\n",
       "      <td>49497.0</td>\n",
       "      <td>59.170206</td>\n",
       "      <td>5.0</td>\n",
       "    </tr>\n",
       "    <tr>\n",
       "      <td>cluster 25730</td>\n",
       "      <td>5277.0</td>\n",
       "      <td>12793.0</td>\n",
       "      <td>102.166531</td>\n",
       "      <td>2.0</td>\n",
       "    </tr>\n",
       "    <tr>\n",
       "      <td>cluster 27119</td>\n",
       "      <td>55245.0</td>\n",
       "      <td>60589.0</td>\n",
       "      <td>112.890483</td>\n",
       "      <td>5.0</td>\n",
       "    </tr>\n",
       "    <tr>\n",
       "      <td>cluster 18413</td>\n",
       "      <td>49006.0</td>\n",
       "      <td>49077.0</td>\n",
       "      <td>66.355516</td>\n",
       "      <td>4.0</td>\n",
       "    </tr>\n",
       "    <tr>\n",
       "      <td>cluster 27205</td>\n",
       "      <td>13728.0</td>\n",
       "      <td>30442.0</td>\n",
       "      <td>113.644183</td>\n",
       "      <td>2.0</td>\n",
       "    </tr>\n",
       "    <tr>\n",
       "      <td>cluster 424</td>\n",
       "      <td>934.0</td>\n",
       "      <td>35021.0</td>\n",
       "      <td>15.525255</td>\n",
       "      <td>3.0</td>\n",
       "    </tr>\n",
       "  </tbody>\n",
       "</table>\n",
       "</div>"
      ],
      "text/plain": [
       "               row label 1  row label 2    distance  no. items in clust.\n",
       "cluster 7047        6856.0      21873.0   35.142963                  2.0\n",
       "cluster 2316        4651.0      21315.0   23.369248                  2.0\n",
       "cluster 1847       35364.0      35583.0   21.983151                  7.0\n",
       "cluster 25173      30136.0      55493.0   98.356644                  3.0\n",
       "cluster 16201      16622.0      49497.0   59.170206                  5.0\n",
       "cluster 25730       5277.0      12793.0  102.166531                  2.0\n",
       "cluster 27119      55245.0      60589.0  112.890483                  5.0\n",
       "cluster 18413      49006.0      49077.0   66.355516                  4.0\n",
       "cluster 27205      13728.0      30442.0  113.644183                  2.0\n",
       "cluster 424          934.0      35021.0   15.525255                  3.0"
      ]
     },
     "execution_count": 17,
     "metadata": {},
     "output_type": "execute_result"
    }
   ],
   "source": [
    "linkage_df.sample(10)"
   ]
  },
  {
   "cell_type": "code",
   "execution_count": 18,
   "metadata": {},
   "outputs": [
    {
     "data": {
      "image/png": "[encoded data removed]",
      "text/plain": [
       "<Figure size 864x432 with 1 Axes>"
      ]
     },
     "metadata": {
      "needs_background": "light"
     },
     "output_type": "display_data"
    }
   ],
   "source": [
    "# Doubtful this will run\n",
    "plt.figure(figsize=(12,6))\n",
    "row_dendr = dendrogram(linkage_df, leaf_rotation=90, truncate_mode='lastp', p = 10, leaf_font_size=10)\n",
    "plt.tight_layout()\n",
    "plt.ylabel('Euclidean distance')\n",
    "plt.show()"
   ]
  },
  {
   "cell_type": "code",
   "execution_count": null,
   "metadata": {},
   "outputs": [],
   "source": []
  },
  {
   "cell_type": "code",
   "execution_count": null,
   "metadata": {},
   "outputs": [],
   "source": []
  },
  {
   "cell_type": "code",
   "execution_count": null,
   "metadata": {},
   "outputs": [],
   "source": []
  },
  {
   "cell_type": "code",
   "execution_count": null,
   "metadata": {},
   "outputs": [],
   "source": []
  }
 ],
 "metadata": {
  "kernelspec": {
   "display_name": "Python 3",
   "language": "python",
   "name": "python3"
  },
  "language_info": {
   "codemirror_mode": {
    "name": "ipython",
    "version": 3
   },
   "file_extension": ".py",
   "mimetype": "text/x-python",
   "name": "python",
   "nbconvert_exporter": "python",
   "pygments_lexer": "ipython3",
   "version": "3.7.4"
  }
 },
 "nbformat": 4,
 "nbformat_minor": 2
}
