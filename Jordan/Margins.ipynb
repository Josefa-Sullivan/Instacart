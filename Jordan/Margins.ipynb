{
 "cells": [
  {
   "cell_type": "code",
   "execution_count": 2,
   "metadata": {},
   "outputs": [],
   "source": [
    "from __future__ import print_function\n",
    "import pandas as pd\n",
    "import numpy as np\n",
    "import matplotlib.pyplot as plt\n",
    "%matplotlib inline"
   ]
  },
  {
   "cell_type": "markdown",
   "metadata": {},
   "source": [
    "### Load Data"
   ]
  },
  {
   "cell_type": "code",
   "execution_count": 3,
   "metadata": {},
   "outputs": [],
   "source": [
    "products = pd.read_csv('../data/products.csv')\n",
    "departments = pd.read_csv('../data/departments.csv')\n",
    "aisles = pd.read_csv('../data/aisles.csv')"
   ]
  },
  {
   "cell_type": "code",
   "execution_count": 4,
   "metadata": {},
   "outputs": [
    {
     "data": {
      "text/html": [
       "<div>\n",
       "<style scoped>\n",
       "    .dataframe tbody tr th:only-of-type {\n",
       "        vertical-align: middle;\n",
       "    }\n",
       "\n",
       "    .dataframe tbody tr th {\n",
       "        vertical-align: top;\n",
       "    }\n",
       "\n",
       "    .dataframe thead th {\n",
       "        text-align: right;\n",
       "    }\n",
       "</style>\n",
       "<table border=\"1\" class=\"dataframe\">\n",
       "  <thead>\n",
       "    <tr style=\"text-align: right;\">\n",
       "      <th></th>\n",
       "      <th>product_id</th>\n",
       "      <th>product_name</th>\n",
       "      <th>aisle_id</th>\n",
       "      <th>department_id</th>\n",
       "      <th>aisle</th>\n",
       "      <th>department</th>\n",
       "    </tr>\n",
       "  </thead>\n",
       "  <tbody>\n",
       "    <tr>\n",
       "      <td>0</td>\n",
       "      <td>1</td>\n",
       "      <td>Chocolate Sandwich Cookies</td>\n",
       "      <td>61</td>\n",
       "      <td>19</td>\n",
       "      <td>cookies cakes</td>\n",
       "      <td>snacks</td>\n",
       "    </tr>\n",
       "    <tr>\n",
       "      <td>1</td>\n",
       "      <td>2</td>\n",
       "      <td>All-Seasons Salt</td>\n",
       "      <td>104</td>\n",
       "      <td>13</td>\n",
       "      <td>spices seasonings</td>\n",
       "      <td>pantry</td>\n",
       "    </tr>\n",
       "    <tr>\n",
       "      <td>2</td>\n",
       "      <td>3</td>\n",
       "      <td>Robust Golden Unsweetened Oolong Tea</td>\n",
       "      <td>94</td>\n",
       "      <td>7</td>\n",
       "      <td>tea</td>\n",
       "      <td>beverages</td>\n",
       "    </tr>\n",
       "    <tr>\n",
       "      <td>3</td>\n",
       "      <td>4</td>\n",
       "      <td>Smart Ones Classic Favorites Mini Rigatoni Wit...</td>\n",
       "      <td>38</td>\n",
       "      <td>1</td>\n",
       "      <td>frozen meals</td>\n",
       "      <td>frozen</td>\n",
       "    </tr>\n",
       "    <tr>\n",
       "      <td>4</td>\n",
       "      <td>5</td>\n",
       "      <td>Green Chile Anytime Sauce</td>\n",
       "      <td>5</td>\n",
       "      <td>13</td>\n",
       "      <td>marinades meat preparation</td>\n",
       "      <td>pantry</td>\n",
       "    </tr>\n",
       "    <tr>\n",
       "      <td>...</td>\n",
       "      <td>...</td>\n",
       "      <td>...</td>\n",
       "      <td>...</td>\n",
       "      <td>...</td>\n",
       "      <td>...</td>\n",
       "      <td>...</td>\n",
       "    </tr>\n",
       "    <tr>\n",
       "      <td>49683</td>\n",
       "      <td>49684</td>\n",
       "      <td>Vodka, Triple Distilled, Twist of Vanilla</td>\n",
       "      <td>124</td>\n",
       "      <td>5</td>\n",
       "      <td>spirits</td>\n",
       "      <td>alcohol</td>\n",
       "    </tr>\n",
       "    <tr>\n",
       "      <td>49684</td>\n",
       "      <td>49685</td>\n",
       "      <td>En Croute Roast Hazelnut Cranberry</td>\n",
       "      <td>42</td>\n",
       "      <td>1</td>\n",
       "      <td>frozen vegan vegetarian</td>\n",
       "      <td>frozen</td>\n",
       "    </tr>\n",
       "    <tr>\n",
       "      <td>49685</td>\n",
       "      <td>49686</td>\n",
       "      <td>Artisan Baguette</td>\n",
       "      <td>112</td>\n",
       "      <td>3</td>\n",
       "      <td>bread</td>\n",
       "      <td>bakery</td>\n",
       "    </tr>\n",
       "    <tr>\n",
       "      <td>49686</td>\n",
       "      <td>49687</td>\n",
       "      <td>Smartblend Healthy Metabolism Dry Cat Food</td>\n",
       "      <td>41</td>\n",
       "      <td>8</td>\n",
       "      <td>cat food care</td>\n",
       "      <td>pets</td>\n",
       "    </tr>\n",
       "    <tr>\n",
       "      <td>49687</td>\n",
       "      <td>49688</td>\n",
       "      <td>Fresh Foaming Cleanser</td>\n",
       "      <td>73</td>\n",
       "      <td>11</td>\n",
       "      <td>facial care</td>\n",
       "      <td>personal care</td>\n",
       "    </tr>\n",
       "  </tbody>\n",
       "</table>\n",
       "<p>49688 rows × 6 columns</p>\n",
       "</div>"
      ],
      "text/plain": [
       "       product_id                                       product_name  \\\n",
       "0               1                         Chocolate Sandwich Cookies   \n",
       "1               2                                   All-Seasons Salt   \n",
       "2               3               Robust Golden Unsweetened Oolong Tea   \n",
       "3               4  Smart Ones Classic Favorites Mini Rigatoni Wit...   \n",
       "4               5                          Green Chile Anytime Sauce   \n",
       "...           ...                                                ...   \n",
       "49683       49684          Vodka, Triple Distilled, Twist of Vanilla   \n",
       "49684       49685                 En Croute Roast Hazelnut Cranberry   \n",
       "49685       49686                                   Artisan Baguette   \n",
       "49686       49687         Smartblend Healthy Metabolism Dry Cat Food   \n",
       "49687       49688                             Fresh Foaming Cleanser   \n",
       "\n",
       "       aisle_id  department_id                       aisle     department  \n",
       "0            61             19               cookies cakes         snacks  \n",
       "1           104             13           spices seasonings         pantry  \n",
       "2            94              7                         tea      beverages  \n",
       "3            38              1                frozen meals         frozen  \n",
       "4             5             13  marinades meat preparation         pantry  \n",
       "...         ...            ...                         ...            ...  \n",
       "49683       124              5                     spirits        alcohol  \n",
       "49684        42              1     frozen vegan vegetarian         frozen  \n",
       "49685       112              3                       bread         bakery  \n",
       "49686        41              8               cat food care           pets  \n",
       "49687        73             11                 facial care  personal care  \n",
       "\n",
       "[49688 rows x 6 columns]"
      ]
     },
     "execution_count": 4,
     "metadata": {},
     "output_type": "execute_result"
    }
   ],
   "source": [
    "prod = pd.merge(products, aisles, how='left', left_on='aisle_id', right_on='aisle_id')\n",
    "prod = pd.merge(prod, departments, how='left', left_on='department_id', right_on='department_id')\n",
    "prod"
   ]
  },
  {
   "cell_type": "markdown",
   "metadata": {},
   "source": [
    "### High Markups"
   ]
  },
  {
   "cell_type": "code",
   "execution_count": 5,
   "metadata": {},
   "outputs": [],
   "source": [
    "# Products\n",
    "allproduce = prod[prod['department']=='produce']\n",
    "p_organic_produce = allproduce[allproduce['product_name'].str.contains('Organic')]\n",
    "p_organic_produce = p_organic_produce[['product_id', 'product_name']]\n",
    "\n",
    "p_batteries = prod[prod['product_name'].str.contains('Batteries')]"
   ]
  },
  {
   "cell_type": "code",
   "execution_count": 6,
   "metadata": {},
   "outputs": [],
   "source": [
    "# Aisles\n",
    "p_water = prod[prod['aisle']=='water seltzer sparkling water'][['product_id','product_name']]\n",
    "p_cereal = prod[prod['aisle']=='cereal'][['product_id','product_name']]\n",
    "p_spices = prod[prod['aisle']== 'spices seasonings'][['product_id','product_name']]"
   ]
  },
  {
   "cell_type": "code",
   "execution_count": 7,
   "metadata": {},
   "outputs": [],
   "source": [
    "# Departments\n",
    "p_personal_care = prod[prod['department']=='personal care'][['product_id','product_name']]\n",
    "p_household = prod[prod['department']=='household'][['product_id','product_name']]\n",
    "p_babies = prod[prod['department']=='babies'][['product_id','product_name']]\n",
    "p_pets = prod[prod['department']=='pets'][['product_id','product_name']]\n",
    "p_alcohol = prod[prod['department']=='alcohol'][['product_id','product_name']]"
   ]
  },
  {
   "cell_type": "markdown",
   "metadata": {},
   "source": [
    "### Concat and Add 'High Margin' Feature"
   ]
  },
  {
   "cell_type": "code",
   "execution_count": 8,
   "metadata": {},
   "outputs": [
    {
     "name": "stdout",
     "output_type": "stream",
     "text": [
      "(473, 2)\n",
      "(27, 6)\n",
      "(344, 2)\n",
      "(454, 2)\n",
      "(797, 2)\n",
      "(6563, 2)\n",
      "(3085, 2)\n",
      "(1081, 2)\n",
      "(972, 2)\n",
      "(1054, 2)\n"
     ]
    }
   ],
   "source": [
    "#Products\n",
    "print(p_organic_produce.shape)\n",
    "print(p_batteries.shape)\n",
    "#Aisles\n",
    "print(p_water.shape)\n",
    "print(p_cereal.shape)\n",
    "print(p_spices.shape)\n",
    "#Dept\n",
    "print(p_personal_care.shape)\n",
    "print(p_household.shape)\n",
    "print(p_babies.shape)\n",
    "print(p_pets.shape)\n",
    "print(p_alcohol.shape)"
   ]
  },
  {
   "cell_type": "code",
   "execution_count": 9,
   "metadata": {},
   "outputs": [
    {
     "name": "stderr",
     "output_type": "stream",
     "text": [
      "/opt/anaconda3/lib/python3.7/site-packages/ipykernel_launcher.py:2: FutureWarning: Sorting because non-concatenation axis is not aligned. A future version\n",
      "of pandas will change to not sort by default.\n",
      "\n",
      "To accept the future behavior, pass 'sort=False'.\n",
      "\n",
      "To retain the current behavior and silence the warning, pass 'sort=True'.\n",
      "\n",
      "  \n"
     ]
    }
   ],
   "source": [
    "high_margin = pd.concat([p_organic_produce, p_organic_produce, p_batteries, p_water, p_cereal, p_spices,\\\n",
    "          p_personal_care, p_household, p_babies, p_pets, p_alcohol])\n",
    "high_margin['high_margin'] = 1\n",
    "high_margin = high_margin[['product_id', 'high_margin']]"
   ]
  },
  {
   "cell_type": "code",
   "execution_count": 29,
   "metadata": {},
   "outputs": [
    {
     "data": {
      "text/plain": [
       "(15323, 2)"
      ]
     },
     "execution_count": 29,
     "metadata": {},
     "output_type": "execute_result"
    }
   ],
   "source": [
    "high_margin.shape"
   ]
  },
  {
   "cell_type": "markdown",
   "metadata": {},
   "source": [
    "### Merge with Prod"
   ]
  },
  {
   "cell_type": "code",
   "execution_count": 10,
   "metadata": {},
   "outputs": [],
   "source": [
    "product_margins = pd.merge(prod, high_margin, how='left', left_on='product_id', right_on='product_id')"
   ]
  },
  {
   "cell_type": "code",
   "execution_count": 11,
   "metadata": {},
   "outputs": [],
   "source": [
    "product_margins['high_margin'] = product_margins['high_margin'].fillna(0)"
   ]
  },
  {
   "cell_type": "code",
   "execution_count": 12,
   "metadata": {},
   "outputs": [
    {
     "data": {
      "text/html": [
       "<div>\n",
       "<style scoped>\n",
       "    .dataframe tbody tr th:only-of-type {\n",
       "        vertical-align: middle;\n",
       "    }\n",
       "\n",
       "    .dataframe tbody tr th {\n",
       "        vertical-align: top;\n",
       "    }\n",
       "\n",
       "    .dataframe thead th {\n",
       "        text-align: right;\n",
       "    }\n",
       "</style>\n",
       "<table border=\"1\" class=\"dataframe\">\n",
       "  <thead>\n",
       "    <tr style=\"text-align: right;\">\n",
       "      <th></th>\n",
       "      <th>product_id</th>\n",
       "      <th>product_name</th>\n",
       "      <th>aisle_id</th>\n",
       "      <th>department_id</th>\n",
       "      <th>aisle</th>\n",
       "      <th>department</th>\n",
       "      <th>high_margin</th>\n",
       "    </tr>\n",
       "  </thead>\n",
       "  <tbody>\n",
       "    <tr>\n",
       "      <td>0</td>\n",
       "      <td>1</td>\n",
       "      <td>Chocolate Sandwich Cookies</td>\n",
       "      <td>61</td>\n",
       "      <td>19</td>\n",
       "      <td>cookies cakes</td>\n",
       "      <td>snacks</td>\n",
       "      <td>0.0</td>\n",
       "    </tr>\n",
       "    <tr>\n",
       "      <td>1</td>\n",
       "      <td>2</td>\n",
       "      <td>All-Seasons Salt</td>\n",
       "      <td>104</td>\n",
       "      <td>13</td>\n",
       "      <td>spices seasonings</td>\n",
       "      <td>pantry</td>\n",
       "      <td>1.0</td>\n",
       "    </tr>\n",
       "    <tr>\n",
       "      <td>2</td>\n",
       "      <td>3</td>\n",
       "      <td>Robust Golden Unsweetened Oolong Tea</td>\n",
       "      <td>94</td>\n",
       "      <td>7</td>\n",
       "      <td>tea</td>\n",
       "      <td>beverages</td>\n",
       "      <td>0.0</td>\n",
       "    </tr>\n",
       "    <tr>\n",
       "      <td>3</td>\n",
       "      <td>4</td>\n",
       "      <td>Smart Ones Classic Favorites Mini Rigatoni Wit...</td>\n",
       "      <td>38</td>\n",
       "      <td>1</td>\n",
       "      <td>frozen meals</td>\n",
       "      <td>frozen</td>\n",
       "      <td>0.0</td>\n",
       "    </tr>\n",
       "    <tr>\n",
       "      <td>4</td>\n",
       "      <td>5</td>\n",
       "      <td>Green Chile Anytime Sauce</td>\n",
       "      <td>5</td>\n",
       "      <td>13</td>\n",
       "      <td>marinades meat preparation</td>\n",
       "      <td>pantry</td>\n",
       "      <td>0.0</td>\n",
       "    </tr>\n",
       "    <tr>\n",
       "      <td>...</td>\n",
       "      <td>...</td>\n",
       "      <td>...</td>\n",
       "      <td>...</td>\n",
       "      <td>...</td>\n",
       "      <td>...</td>\n",
       "      <td>...</td>\n",
       "      <td>...</td>\n",
       "    </tr>\n",
       "    <tr>\n",
       "      <td>50179</td>\n",
       "      <td>49684</td>\n",
       "      <td>Vodka, Triple Distilled, Twist of Vanilla</td>\n",
       "      <td>124</td>\n",
       "      <td>5</td>\n",
       "      <td>spirits</td>\n",
       "      <td>alcohol</td>\n",
       "      <td>1.0</td>\n",
       "    </tr>\n",
       "    <tr>\n",
       "      <td>50180</td>\n",
       "      <td>49685</td>\n",
       "      <td>En Croute Roast Hazelnut Cranberry</td>\n",
       "      <td>42</td>\n",
       "      <td>1</td>\n",
       "      <td>frozen vegan vegetarian</td>\n",
       "      <td>frozen</td>\n",
       "      <td>0.0</td>\n",
       "    </tr>\n",
       "    <tr>\n",
       "      <td>50181</td>\n",
       "      <td>49686</td>\n",
       "      <td>Artisan Baguette</td>\n",
       "      <td>112</td>\n",
       "      <td>3</td>\n",
       "      <td>bread</td>\n",
       "      <td>bakery</td>\n",
       "      <td>0.0</td>\n",
       "    </tr>\n",
       "    <tr>\n",
       "      <td>50182</td>\n",
       "      <td>49687</td>\n",
       "      <td>Smartblend Healthy Metabolism Dry Cat Food</td>\n",
       "      <td>41</td>\n",
       "      <td>8</td>\n",
       "      <td>cat food care</td>\n",
       "      <td>pets</td>\n",
       "      <td>1.0</td>\n",
       "    </tr>\n",
       "    <tr>\n",
       "      <td>50183</td>\n",
       "      <td>49688</td>\n",
       "      <td>Fresh Foaming Cleanser</td>\n",
       "      <td>73</td>\n",
       "      <td>11</td>\n",
       "      <td>facial care</td>\n",
       "      <td>personal care</td>\n",
       "      <td>1.0</td>\n",
       "    </tr>\n",
       "  </tbody>\n",
       "</table>\n",
       "<p>50184 rows × 7 columns</p>\n",
       "</div>"
      ],
      "text/plain": [
       "       product_id                                       product_name  \\\n",
       "0               1                         Chocolate Sandwich Cookies   \n",
       "1               2                                   All-Seasons Salt   \n",
       "2               3               Robust Golden Unsweetened Oolong Tea   \n",
       "3               4  Smart Ones Classic Favorites Mini Rigatoni Wit...   \n",
       "4               5                          Green Chile Anytime Sauce   \n",
       "...           ...                                                ...   \n",
       "50179       49684          Vodka, Triple Distilled, Twist of Vanilla   \n",
       "50180       49685                 En Croute Roast Hazelnut Cranberry   \n",
       "50181       49686                                   Artisan Baguette   \n",
       "50182       49687         Smartblend Healthy Metabolism Dry Cat Food   \n",
       "50183       49688                             Fresh Foaming Cleanser   \n",
       "\n",
       "       aisle_id  department_id                       aisle     department  \\\n",
       "0            61             19               cookies cakes         snacks   \n",
       "1           104             13           spices seasonings         pantry   \n",
       "2            94              7                         tea      beverages   \n",
       "3            38              1                frozen meals         frozen   \n",
       "4             5             13  marinades meat preparation         pantry   \n",
       "...         ...            ...                         ...            ...   \n",
       "50179       124              5                     spirits        alcohol   \n",
       "50180        42              1     frozen vegan vegetarian         frozen   \n",
       "50181       112              3                       bread         bakery   \n",
       "50182        41              8               cat food care           pets   \n",
       "50183        73             11                 facial care  personal care   \n",
       "\n",
       "       high_margin  \n",
       "0              0.0  \n",
       "1              1.0  \n",
       "2              0.0  \n",
       "3              0.0  \n",
       "4              0.0  \n",
       "...            ...  \n",
       "50179          1.0  \n",
       "50180          0.0  \n",
       "50181          0.0  \n",
       "50182          1.0  \n",
       "50183          1.0  \n",
       "\n",
       "[50184 rows x 7 columns]"
      ]
     },
     "execution_count": 12,
     "metadata": {},
     "output_type": "execute_result"
    }
   ],
   "source": [
    "product_margins"
   ]
  },
  {
   "cell_type": "code",
   "execution_count": 13,
   "metadata": {},
   "outputs": [],
   "source": [
    "# product_margins.to_csv('../data/product_margins.csv') "
   ]
  },
  {
   "cell_type": "code",
   "execution_count": null,
   "metadata": {},
   "outputs": [],
   "source": []
  },
  {
   "cell_type": "code",
   "execution_count": null,
   "metadata": {},
   "outputs": [],
   "source": []
  },
  {
   "cell_type": "code",
   "execution_count": null,
   "metadata": {},
   "outputs": [],
   "source": []
  },
  {
   "cell_type": "code",
   "execution_count": null,
   "metadata": {},
   "outputs": [],
   "source": []
  },
  {
   "cell_type": "code",
   "execution_count": null,
   "metadata": {},
   "outputs": [],
   "source": []
  },
  {
   "cell_type": "markdown",
   "metadata": {},
   "source": [
    "### Exploring"
   ]
  },
  {
   "cell_type": "code",
   "execution_count": 14,
   "metadata": {},
   "outputs": [
    {
     "data": {
      "text/plain": [
       "array(['snacks', 'pantry', 'beverages', 'frozen', 'personal care',\n",
       "       'dairy eggs', 'household', 'babies', 'meat seafood',\n",
       "       'dry goods pasta', 'pets', 'breakfast', 'canned goods', 'produce',\n",
       "       'missing', 'international', 'deli', 'alcohol', 'bakery', 'other',\n",
       "       'bulk'], dtype=object)"
      ]
     },
     "execution_count": 14,
     "metadata": {},
     "output_type": "execute_result"
    }
   ],
   "source": [
    "prod['department'].unique()"
   ]
  },
  {
   "cell_type": "code",
   "execution_count": 19,
   "metadata": {},
   "outputs": [
    {
     "data": {
      "text/plain": [
       "134"
      ]
     },
     "execution_count": 19,
     "metadata": {},
     "output_type": "execute_result"
    }
   ],
   "source": [
    "prod['aisle'].nunique()"
   ]
  },
  {
   "cell_type": "code",
   "execution_count": 27,
   "metadata": {},
   "outputs": [
    {
     "data": {
      "text/plain": [
       "array(['cookies cakes', 'spices seasonings', 'tea', 'frozen meals',\n",
       "       'marinades meat preparation', 'cold flu allergy', 'juice nectars',\n",
       "       'frozen produce', 'yogurt', 'water seltzer sparkling water',\n",
       "       'refrigerated', 'frozen dessert', 'dish detergents',\n",
       "       'diapers wipes', 'ice cream toppings', 'poultry counter',\n",
       "       'frozen pizza', 'grains rice dried goods', 'dog food care',\n",
       "       'oral hygiene', 'packaged poultry', 'vitamins supplements',\n",
       "       'energy granola bars', 'cat food care', 'body lotions soap',\n",
       "       'cereal', 'canned jarred vegetables', 'packaged vegetables fruits',\n",
       "       'chips pretzels', 'dry pasta', 'hot dogs bacon sausage',\n",
       "       'soup broth bouillon', 'missing', 'energy sports drinks',\n",
       "       'crackers', 'fresh vegetables', 'frozen breads doughs',\n",
       "       'asian foods', 'more household', 'tofu meat alternatives',\n",
       "       'doughs gelatins bake mixes', 'hair care',\n",
       "       'specialty wines champagnes', 'popcorn jerky',\n",
       "       'plates bowls cups flatware', 'tortillas flat bread',\n",
       "       'fruit vegetable snacks', 'pasta sauce', 'lunch meat',\n",
       "       'baby food formula', 'salad dressing toppings', 'spreads',\n",
       "       'hot cereal pancake mixes', 'coffee', 'soft drinks',\n",
       "       'protein meal replacements', 'fresh pasta', 'canned meat seafood',\n",
       "       'oils vinegars', 'packaged meat', 'other', 'baking supplies decor',\n",
       "       'specialty cheeses', 'bread', 'kitchen supplies',\n",
       "       'preserved dips spreads', 'prepared meals', 'laundry', 'digestion',\n",
       "       'breakfast bakery', 'frozen meat seafood', 'white wines',\n",
       "       'packaged cheese', 'honeys syrups nectars', 'candy chocolate',\n",
       "       'first aid', 'instant foods', 'other creams cheeses',\n",
       "       'ice cream ice', 'skin care', 'soy lactosefree', 'fresh fruits',\n",
       "       'fresh dips tapenades', 'beauty', 'soap',\n",
       "       'frozen appetizers sides', 'mint gum', 'fresh herbs',\n",
       "       'frozen breakfast', 'baking ingredients', 'facial care',\n",
       "       'meat counter', 'frozen vegan vegetarian', 'canned meals beans',\n",
       "       'feminine care', 'kosher foods', 'prepared soups salads',\n",
       "       'bakery desserts', 'baby accessories', 'cleaning products',\n",
       "       'spirits', 'nuts seeds dried fruit', 'condiments',\n",
       "       'pickled goods olives', 'food storage', 'eye ear care',\n",
       "       'deodorants', 'air fresheners candles', 'milk', 'latino foods',\n",
       "       'beers coolers', 'cocoa drink mixes', 'breakfast bars pastries',\n",
       "       'muscles joints pain relief', 'cream', 'red wines',\n",
       "       'bulk grains rice dried goods', 'buns rolls',\n",
       "       'trail mix snack mix', 'granola', 'packaged seafood',\n",
       "       'shave needs', 'butter', 'paper goods', 'baby bath body care',\n",
       "       'trash bags liners', 'canned fruit applesauce',\n",
       "       'bulk dried fruits vegetables', 'seafood counter',\n",
       "       'refrigerated pudding desserts', 'frozen juice', 'eggs',\n",
       "       'packaged produce', 'indian foods'], dtype=object)"
      ]
     },
     "execution_count": 27,
     "metadata": {},
     "output_type": "execute_result"
    }
   ],
   "source": [
    "prod['aisle'].unique()"
   ]
  },
  {
   "cell_type": "code",
   "execution_count": 16,
   "metadata": {},
   "outputs": [],
   "source": [
    "# prod[prod['department']=='produce']['aisle'].unique()"
   ]
  },
  {
   "cell_type": "code",
   "execution_count": 17,
   "metadata": {},
   "outputs": [],
   "source": [
    "# prod[prod['aisle']== 'spices seasonings']['product_name'].unique()"
   ]
  },
  {
   "cell_type": "code",
   "execution_count": 18,
   "metadata": {},
   "outputs": [],
   "source": [
    "# specific_product('Decoration')"
   ]
  }
 ],
 "metadata": {
  "kernelspec": {
   "display_name": "Python 3",
   "language": "python",
   "name": "python3"
  },
  "language_info": {
   "codemirror_mode": {
    "name": "ipython",
    "version": 3
   },
   "file_extension": ".py",
   "mimetype": "text/x-python",
   "name": "python",
   "nbconvert_exporter": "python",
   "pygments_lexer": "ipython3",
   "version": "3.7.4"
  }
 },
 "nbformat": 4,
 "nbformat_minor": 2
}
