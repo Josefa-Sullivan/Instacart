{
 "cells": [
  {
   "cell_type": "code",
   "execution_count": 2,
   "metadata": {},
   "outputs": [],
   "source": [
    "from __future__ import print_function\n",
    "from sklearn.cluster import KMeans\n",
    "from sklearn import metrics\n",
    "from scipy.spatial.distance import cdist\n",
    "\n",
    "import pandas as pd\n",
    "import numpy as np\n",
    "import matplotlib.pyplot as plt\n",
    "%matplotlib inline\n",
    "import seaborn as sns"
   ]
  },
  {
   "cell_type": "code",
   "execution_count": 5,
   "metadata": {},
   "outputs": [
    {
     "data": {
      "text/html": [
       "<div>\n",
       "<style scoped>\n",
       "    .dataframe tbody tr th:only-of-type {\n",
       "        vertical-align: middle;\n",
       "    }\n",
       "\n",
       "    .dataframe tbody tr th {\n",
       "        vertical-align: top;\n",
       "    }\n",
       "\n",
       "    .dataframe thead th {\n",
       "        text-align: right;\n",
       "    }\n",
       "</style>\n",
       "<table border=\"1\" class=\"dataframe\">\n",
       "  <thead>\n",
       "    <tr style=\"text-align: right;\">\n",
       "      <th></th>\n",
       "      <th>user_id</th>\n",
       "      <th>total_orders</th>\n",
       "      <th>total_products</th>\n",
       "      <th>min_products</th>\n",
       "      <th>max_products</th>\n",
       "      <th>med_products</th>\n",
       "      <th>avg_products</th>\n",
       "      <th>std_products</th>\n",
       "      <th>max_reordered</th>\n",
       "      <th>med_reordered</th>\n",
       "      <th>...</th>\n",
       "      <th>per_prod_19</th>\n",
       "      <th>per_prod_20</th>\n",
       "      <th>per_prod_21</th>\n",
       "      <th>per_prod_22</th>\n",
       "      <th>per_prod_23</th>\n",
       "      <th>per_prod_morning</th>\n",
       "      <th>per_prod_lunch</th>\n",
       "      <th>per_prod_afternoon</th>\n",
       "      <th>per_prod_evening</th>\n",
       "      <th>per_prod_afterhours</th>\n",
       "    </tr>\n",
       "  </thead>\n",
       "  <tbody>\n",
       "    <tr>\n",
       "      <td>0</td>\n",
       "      <td>1</td>\n",
       "      <td>11</td>\n",
       "      <td>70</td>\n",
       "      <td>4</td>\n",
       "      <td>11</td>\n",
       "      <td>6.0</td>\n",
       "      <td>6.363636</td>\n",
       "      <td>2.110579</td>\n",
       "      <td>1.000000</td>\n",
       "      <td>0.666667</td>\n",
       "      <td>...</td>\n",
       "      <td>0.000000</td>\n",
       "      <td>0.000000</td>\n",
       "      <td>0.000000</td>\n",
       "      <td>0.000000</td>\n",
       "      <td>0.000000</td>\n",
       "      <td>0.535398</td>\n",
       "      <td>0.393805</td>\n",
       "      <td>0.070796</td>\n",
       "      <td>0.000000</td>\n",
       "      <td>0.000000</td>\n",
       "    </tr>\n",
       "    <tr>\n",
       "      <td>1</td>\n",
       "      <td>2</td>\n",
       "      <td>15</td>\n",
       "      <td>226</td>\n",
       "      <td>5</td>\n",
       "      <td>31</td>\n",
       "      <td>14.0</td>\n",
       "      <td>15.066667</td>\n",
       "      <td>7.055562</td>\n",
       "      <td>0.888889</td>\n",
       "      <td>0.562500</td>\n",
       "      <td>...</td>\n",
       "      <td>0.102273</td>\n",
       "      <td>0.000000</td>\n",
       "      <td>0.000000</td>\n",
       "      <td>0.000000</td>\n",
       "      <td>0.000000</td>\n",
       "      <td>0.000000</td>\n",
       "      <td>0.000000</td>\n",
       "      <td>0.568182</td>\n",
       "      <td>0.431818</td>\n",
       "      <td>0.000000</td>\n",
       "    </tr>\n",
       "    <tr>\n",
       "      <td>2</td>\n",
       "      <td>3</td>\n",
       "      <td>12</td>\n",
       "      <td>88</td>\n",
       "      <td>5</td>\n",
       "      <td>11</td>\n",
       "      <td>7.0</td>\n",
       "      <td>7.333333</td>\n",
       "      <td>2.103388</td>\n",
       "      <td>1.000000</td>\n",
       "      <td>0.763889</td>\n",
       "      <td>...</td>\n",
       "      <td>0.000000</td>\n",
       "      <td>0.000000</td>\n",
       "      <td>0.000000</td>\n",
       "      <td>0.000000</td>\n",
       "      <td>0.000000</td>\n",
       "      <td>0.000000</td>\n",
       "      <td>0.611111</td>\n",
       "      <td>0.388889</td>\n",
       "      <td>0.000000</td>\n",
       "      <td>0.000000</td>\n",
       "    </tr>\n",
       "    <tr>\n",
       "      <td>3</td>\n",
       "      <td>4</td>\n",
       "      <td>5</td>\n",
       "      <td>18</td>\n",
       "      <td>2</td>\n",
       "      <td>7</td>\n",
       "      <td>3.0</td>\n",
       "      <td>3.600000</td>\n",
       "      <td>2.073644</td>\n",
       "      <td>0.142857</td>\n",
       "      <td>0.000000</td>\n",
       "      <td>...</td>\n",
       "      <td>0.000000</td>\n",
       "      <td>0.000000</td>\n",
       "      <td>0.000000</td>\n",
       "      <td>0.000000</td>\n",
       "      <td>0.000000</td>\n",
       "      <td>0.000000</td>\n",
       "      <td>0.434783</td>\n",
       "      <td>0.195652</td>\n",
       "      <td>0.369565</td>\n",
       "      <td>0.000000</td>\n",
       "    </tr>\n",
       "    <tr>\n",
       "      <td>4</td>\n",
       "      <td>5</td>\n",
       "      <td>5</td>\n",
       "      <td>46</td>\n",
       "      <td>5</td>\n",
       "      <td>12</td>\n",
       "      <td>9.0</td>\n",
       "      <td>9.200000</td>\n",
       "      <td>2.683282</td>\n",
       "      <td>0.666667</td>\n",
       "      <td>0.444444</td>\n",
       "      <td>...</td>\n",
       "      <td>0.000000</td>\n",
       "      <td>0.000000</td>\n",
       "      <td>0.000000</td>\n",
       "      <td>0.000000</td>\n",
       "      <td>0.000000</td>\n",
       "      <td>0.000000</td>\n",
       "      <td>0.000000</td>\n",
       "      <td>0.500000</td>\n",
       "      <td>0.500000</td>\n",
       "      <td>0.000000</td>\n",
       "    </tr>\n",
       "    <tr>\n",
       "      <td>...</td>\n",
       "      <td>...</td>\n",
       "      <td>...</td>\n",
       "      <td>...</td>\n",
       "      <td>...</td>\n",
       "      <td>...</td>\n",
       "      <td>...</td>\n",
       "      <td>...</td>\n",
       "      <td>...</td>\n",
       "      <td>...</td>\n",
       "      <td>...</td>\n",
       "      <td>...</td>\n",
       "      <td>...</td>\n",
       "      <td>...</td>\n",
       "      <td>...</td>\n",
       "      <td>...</td>\n",
       "      <td>...</td>\n",
       "      <td>...</td>\n",
       "      <td>...</td>\n",
       "      <td>...</td>\n",
       "      <td>...</td>\n",
       "      <td>...</td>\n",
       "    </tr>\n",
       "    <tr>\n",
       "      <td>206204</td>\n",
       "      <td>206205</td>\n",
       "      <td>4</td>\n",
       "      <td>51</td>\n",
       "      <td>7</td>\n",
       "      <td>19</td>\n",
       "      <td>12.5</td>\n",
       "      <td>12.750000</td>\n",
       "      <td>6.130525</td>\n",
       "      <td>0.857143</td>\n",
       "      <td>0.282895</td>\n",
       "      <td>...</td>\n",
       "      <td>0.147368</td>\n",
       "      <td>0.059649</td>\n",
       "      <td>0.000000</td>\n",
       "      <td>0.000000</td>\n",
       "      <td>0.000000</td>\n",
       "      <td>0.010526</td>\n",
       "      <td>0.084211</td>\n",
       "      <td>0.259649</td>\n",
       "      <td>0.645614</td>\n",
       "      <td>0.000000</td>\n",
       "    </tr>\n",
       "    <tr>\n",
       "      <td>206205</td>\n",
       "      <td>206206</td>\n",
       "      <td>67</td>\n",
       "      <td>285</td>\n",
       "      <td>1</td>\n",
       "      <td>24</td>\n",
       "      <td>4.0</td>\n",
       "      <td>4.253731</td>\n",
       "      <td>3.230270</td>\n",
       "      <td>1.000000</td>\n",
       "      <td>0.500000</td>\n",
       "      <td>...</td>\n",
       "      <td>0.107623</td>\n",
       "      <td>0.112108</td>\n",
       "      <td>0.022422</td>\n",
       "      <td>0.000000</td>\n",
       "      <td>0.000000</td>\n",
       "      <td>0.255605</td>\n",
       "      <td>0.273543</td>\n",
       "      <td>0.192825</td>\n",
       "      <td>0.242152</td>\n",
       "      <td>0.035874</td>\n",
       "    </tr>\n",
       "    <tr>\n",
       "      <td>206206</td>\n",
       "      <td>206207</td>\n",
       "      <td>16</td>\n",
       "      <td>223</td>\n",
       "      <td>5</td>\n",
       "      <td>25</td>\n",
       "      <td>13.0</td>\n",
       "      <td>13.937500</td>\n",
       "      <td>6.038419</td>\n",
       "      <td>1.000000</td>\n",
       "      <td>0.645833</td>\n",
       "      <td>...</td>\n",
       "      <td>0.038405</td>\n",
       "      <td>0.013294</td>\n",
       "      <td>0.000000</td>\n",
       "      <td>0.048744</td>\n",
       "      <td>0.005908</td>\n",
       "      <td>0.162482</td>\n",
       "      <td>0.155096</td>\n",
       "      <td>0.468242</td>\n",
       "      <td>0.125554</td>\n",
       "      <td>0.088626</td>\n",
       "    </tr>\n",
       "    <tr>\n",
       "      <td>206207</td>\n",
       "      <td>206208</td>\n",
       "      <td>49</td>\n",
       "      <td>677</td>\n",
       "      <td>4</td>\n",
       "      <td>28</td>\n",
       "      <td>13.0</td>\n",
       "      <td>13.816327</td>\n",
       "      <td>5.592679</td>\n",
       "      <td>1.000000</td>\n",
       "      <td>0.750000</td>\n",
       "      <td>...</td>\n",
       "      <td>0.000000</td>\n",
       "      <td>0.000000</td>\n",
       "      <td>0.000000</td>\n",
       "      <td>0.000000</td>\n",
       "      <td>0.000000</td>\n",
       "      <td>0.175182</td>\n",
       "      <td>0.489051</td>\n",
       "      <td>0.116788</td>\n",
       "      <td>0.218978</td>\n",
       "      <td>0.000000</td>\n",
       "    </tr>\n",
       "    <tr>\n",
       "      <td>206208</td>\n",
       "      <td>206209</td>\n",
       "      <td>14</td>\n",
       "      <td>137</td>\n",
       "      <td>2</td>\n",
       "      <td>20</td>\n",
       "      <td>9.0</td>\n",
       "      <td>9.785714</td>\n",
       "      <td>5.161672</td>\n",
       "      <td>1.000000</td>\n",
       "      <td>0.500000</td>\n",
       "      <td>...</td>\n",
       "      <td>0.000000</td>\n",
       "      <td>0.000000</td>\n",
       "      <td>0.000000</td>\n",
       "      <td>0.000000</td>\n",
       "      <td>0.000000</td>\n",
       "      <td>0.000000</td>\n",
       "      <td>0.000000</td>\n",
       "      <td>0.000000</td>\n",
       "      <td>0.000000</td>\n",
       "      <td>0.000000</td>\n",
       "    </tr>\n",
       "  </tbody>\n",
       "</table>\n",
       "<p>206209 rows × 98 columns</p>\n",
       "</div>"
      ],
      "text/plain": [
       "        user_id  total_orders  total_products  min_products  max_products  \\\n",
       "0             1            11              70             4            11   \n",
       "1             2            15             226             5            31   \n",
       "2             3            12              88             5            11   \n",
       "3             4             5              18             2             7   \n",
       "4             5             5              46             5            12   \n",
       "...         ...           ...             ...           ...           ...   \n",
       "206204   206205             4              51             7            19   \n",
       "206205   206206            67             285             1            24   \n",
       "206206   206207            16             223             5            25   \n",
       "206207   206208            49             677             4            28   \n",
       "206208   206209            14             137             2            20   \n",
       "\n",
       "        med_products  avg_products  std_products  max_reordered  \\\n",
       "0                6.0      6.363636      2.110579       1.000000   \n",
       "1               14.0     15.066667      7.055562       0.888889   \n",
       "2                7.0      7.333333      2.103388       1.000000   \n",
       "3                3.0      3.600000      2.073644       0.142857   \n",
       "4                9.0      9.200000      2.683282       0.666667   \n",
       "...              ...           ...           ...            ...   \n",
       "206204          12.5     12.750000      6.130525       0.857143   \n",
       "206205           4.0      4.253731      3.230270       1.000000   \n",
       "206206          13.0     13.937500      6.038419       1.000000   \n",
       "206207          13.0     13.816327      5.592679       1.000000   \n",
       "206208           9.0      9.785714      5.161672       1.000000   \n",
       "\n",
       "        med_reordered  ...  per_prod_19  per_prod_20  per_prod_21  \\\n",
       "0            0.666667  ...     0.000000     0.000000     0.000000   \n",
       "1            0.562500  ...     0.102273     0.000000     0.000000   \n",
       "2            0.763889  ...     0.000000     0.000000     0.000000   \n",
       "3            0.000000  ...     0.000000     0.000000     0.000000   \n",
       "4            0.444444  ...     0.000000     0.000000     0.000000   \n",
       "...               ...  ...          ...          ...          ...   \n",
       "206204       0.282895  ...     0.147368     0.059649     0.000000   \n",
       "206205       0.500000  ...     0.107623     0.112108     0.022422   \n",
       "206206       0.645833  ...     0.038405     0.013294     0.000000   \n",
       "206207       0.750000  ...     0.000000     0.000000     0.000000   \n",
       "206208       0.500000  ...     0.000000     0.000000     0.000000   \n",
       "\n",
       "        per_prod_22  per_prod_23  per_prod_morning  per_prod_lunch  \\\n",
       "0          0.000000     0.000000          0.535398        0.393805   \n",
       "1          0.000000     0.000000          0.000000        0.000000   \n",
       "2          0.000000     0.000000          0.000000        0.611111   \n",
       "3          0.000000     0.000000          0.000000        0.434783   \n",
       "4          0.000000     0.000000          0.000000        0.000000   \n",
       "...             ...          ...               ...             ...   \n",
       "206204     0.000000     0.000000          0.010526        0.084211   \n",
       "206205     0.000000     0.000000          0.255605        0.273543   \n",
       "206206     0.048744     0.005908          0.162482        0.155096   \n",
       "206207     0.000000     0.000000          0.175182        0.489051   \n",
       "206208     0.000000     0.000000          0.000000        0.000000   \n",
       "\n",
       "        per_prod_afternoon  per_prod_evening  per_prod_afterhours  \n",
       "0                 0.070796          0.000000             0.000000  \n",
       "1                 0.568182          0.431818             0.000000  \n",
       "2                 0.388889          0.000000             0.000000  \n",
       "3                 0.195652          0.369565             0.000000  \n",
       "4                 0.500000          0.500000             0.000000  \n",
       "...                    ...               ...                  ...  \n",
       "206204            0.259649          0.645614             0.000000  \n",
       "206205            0.192825          0.242152             0.035874  \n",
       "206206            0.468242          0.125554             0.088626  \n",
       "206207            0.116788          0.218978             0.000000  \n",
       "206208            0.000000          0.000000             0.000000  \n",
       "\n",
       "[206209 rows x 98 columns]"
      ]
     },
     "execution_count": 5,
     "metadata": {},
     "output_type": "execute_result"
    }
   ],
   "source": [
    "df = pd.read_csv('../data/user_summary.csv')\n",
    "df"
   ]
  },
  {
   "cell_type": "code",
   "execution_count": 48,
   "metadata": {},
   "outputs": [
    {
     "data": {
      "text/html": [
       "<div>\n",
       "<style scoped>\n",
       "    .dataframe tbody tr th:only-of-type {\n",
       "        vertical-align: middle;\n",
       "    }\n",
       "\n",
       "    .dataframe tbody tr th {\n",
       "        vertical-align: top;\n",
       "    }\n",
       "\n",
       "    .dataframe thead th {\n",
       "        text-align: right;\n",
       "    }\n",
       "</style>\n",
       "<table border=\"1\" class=\"dataframe\">\n",
       "  <thead>\n",
       "    <tr style=\"text-align: right;\">\n",
       "      <th></th>\n",
       "      <th>total_prod_morning</th>\n",
       "      <th>total_prod_lunch</th>\n",
       "      <th>total_prod_afternoon</th>\n",
       "      <th>total_prod_evening</th>\n",
       "      <th>total_prod_afterhours</th>\n",
       "      <th>total_prod_weekday</th>\n",
       "      <th>total_prod_weekend</th>\n",
       "    </tr>\n",
       "  </thead>\n",
       "  <tbody>\n",
       "    <tr>\n",
       "      <td>0</td>\n",
       "      <td>121.0</td>\n",
       "      <td>89.0</td>\n",
       "      <td>16.0</td>\n",
       "      <td>0.0</td>\n",
       "      <td>0.0</td>\n",
       "      <td>131.0</td>\n",
       "      <td>95.0</td>\n",
       "    </tr>\n",
       "    <tr>\n",
       "      <td>1</td>\n",
       "      <td>0.0</td>\n",
       "      <td>0.0</td>\n",
       "      <td>50.0</td>\n",
       "      <td>38.0</td>\n",
       "      <td>0.0</td>\n",
       "      <td>26.0</td>\n",
       "      <td>62.0</td>\n",
       "    </tr>\n",
       "    <tr>\n",
       "      <td>2</td>\n",
       "      <td>0.0</td>\n",
       "      <td>11.0</td>\n",
       "      <td>7.0</td>\n",
       "      <td>0.0</td>\n",
       "      <td>0.0</td>\n",
       "      <td>18.0</td>\n",
       "      <td>0.0</td>\n",
       "    </tr>\n",
       "    <tr>\n",
       "      <td>3</td>\n",
       "      <td>0.0</td>\n",
       "      <td>20.0</td>\n",
       "      <td>9.0</td>\n",
       "      <td>17.0</td>\n",
       "      <td>0.0</td>\n",
       "      <td>16.0</td>\n",
       "      <td>30.0</td>\n",
       "    </tr>\n",
       "    <tr>\n",
       "      <td>4</td>\n",
       "      <td>0.0</td>\n",
       "      <td>0.0</td>\n",
       "      <td>7.0</td>\n",
       "      <td>7.0</td>\n",
       "      <td>0.0</td>\n",
       "      <td>14.0</td>\n",
       "      <td>0.0</td>\n",
       "    </tr>\n",
       "    <tr>\n",
       "      <td>...</td>\n",
       "      <td>...</td>\n",
       "      <td>...</td>\n",
       "      <td>...</td>\n",
       "      <td>...</td>\n",
       "      <td>...</td>\n",
       "      <td>...</td>\n",
       "      <td>...</td>\n",
       "    </tr>\n",
       "    <tr>\n",
       "      <td>206204</td>\n",
       "      <td>3.0</td>\n",
       "      <td>24.0</td>\n",
       "      <td>74.0</td>\n",
       "      <td>184.0</td>\n",
       "      <td>0.0</td>\n",
       "      <td>163.0</td>\n",
       "      <td>122.0</td>\n",
       "    </tr>\n",
       "    <tr>\n",
       "      <td>206205</td>\n",
       "      <td>57.0</td>\n",
       "      <td>61.0</td>\n",
       "      <td>43.0</td>\n",
       "      <td>54.0</td>\n",
       "      <td>8.0</td>\n",
       "      <td>152.0</td>\n",
       "      <td>71.0</td>\n",
       "    </tr>\n",
       "    <tr>\n",
       "      <td>206206</td>\n",
       "      <td>110.0</td>\n",
       "      <td>105.0</td>\n",
       "      <td>317.0</td>\n",
       "      <td>85.0</td>\n",
       "      <td>60.0</td>\n",
       "      <td>502.0</td>\n",
       "      <td>175.0</td>\n",
       "    </tr>\n",
       "    <tr>\n",
       "      <td>206207</td>\n",
       "      <td>24.0</td>\n",
       "      <td>67.0</td>\n",
       "      <td>16.0</td>\n",
       "      <td>30.0</td>\n",
       "      <td>0.0</td>\n",
       "      <td>90.0</td>\n",
       "      <td>47.0</td>\n",
       "    </tr>\n",
       "    <tr>\n",
       "      <td>206208</td>\n",
       "      <td>0.0</td>\n",
       "      <td>0.0</td>\n",
       "      <td>0.0</td>\n",
       "      <td>0.0</td>\n",
       "      <td>0.0</td>\n",
       "      <td>0.0</td>\n",
       "      <td>0.0</td>\n",
       "    </tr>\n",
       "  </tbody>\n",
       "</table>\n",
       "<p>206209 rows × 7 columns</p>\n",
       "</div>"
      ],
      "text/plain": [
       "        total_prod_morning  total_prod_lunch  total_prod_afternoon  \\\n",
       "0                    121.0              89.0                  16.0   \n",
       "1                      0.0               0.0                  50.0   \n",
       "2                      0.0              11.0                   7.0   \n",
       "3                      0.0              20.0                   9.0   \n",
       "4                      0.0               0.0                   7.0   \n",
       "...                    ...               ...                   ...   \n",
       "206204                 3.0              24.0                  74.0   \n",
       "206205                57.0              61.0                  43.0   \n",
       "206206               110.0             105.0                 317.0   \n",
       "206207                24.0              67.0                  16.0   \n",
       "206208                 0.0               0.0                   0.0   \n",
       "\n",
       "        total_prod_evening  total_prod_afterhours  total_prod_weekday  \\\n",
       "0                      0.0                    0.0               131.0   \n",
       "1                     38.0                    0.0                26.0   \n",
       "2                      0.0                    0.0                18.0   \n",
       "3                     17.0                    0.0                16.0   \n",
       "4                      7.0                    0.0                14.0   \n",
       "...                    ...                    ...                 ...   \n",
       "206204               184.0                    0.0               163.0   \n",
       "206205                54.0                    8.0               152.0   \n",
       "206206                85.0                   60.0               502.0   \n",
       "206207                30.0                    0.0                90.0   \n",
       "206208                 0.0                    0.0                 0.0   \n",
       "\n",
       "        total_prod_weekend  \n",
       "0                     95.0  \n",
       "1                     62.0  \n",
       "2                      0.0  \n",
       "3                     30.0  \n",
       "4                      0.0  \n",
       "...                    ...  \n",
       "206204               122.0  \n",
       "206205                71.0  \n",
       "206206               175.0  \n",
       "206207                47.0  \n",
       "206208                 0.0  \n",
       "\n",
       "[206209 rows x 7 columns]"
      ]
     },
     "execution_count": 48,
     "metadata": {},
     "output_type": "execute_result"
    }
   ],
   "source": [
    "df[['total_prod_morning', 'total_prod_lunch', 'total_prod_afternoon','total_prod_evening',\\\n",
    "                  'total_prod_afterhours', 'total_prod_weekday', 'total_prod_weekend']]"
   ]
  },
  {
   "cell_type": "code",
   "execution_count": null,
   "metadata": {},
   "outputs": [],
   "source": []
  },
  {
   "cell_type": "code",
   "execution_count": null,
   "metadata": {},
   "outputs": [],
   "source": []
  },
  {
   "cell_type": "code",
   "execution_count": null,
   "metadata": {},
   "outputs": [],
   "source": []
  },
  {
   "cell_type": "code",
   "execution_count": null,
   "metadata": {},
   "outputs": [],
   "source": []
  },
  {
   "cell_type": "code",
   "execution_count": null,
   "metadata": {},
   "outputs": [],
   "source": []
  },
  {
   "cell_type": "code",
   "execution_count": 4,
   "metadata": {},
   "outputs": [],
   "source": [
    "kmeans = KMeans()"
   ]
  },
  {
   "cell_type": "markdown",
   "metadata": {},
   "source": [
    "### Helper Function"
   ]
  },
  {
   "cell_type": "code",
   "execution_count": 26,
   "metadata": {},
   "outputs": [],
   "source": [
    "def kmeans_model_(user_summary, list_of_columns):\n",
    "    sample = user_summary[list_of_columns]\n",
    "\n",
    "    distortions = []\n",
    "    K = range(1,10)\n",
    "    for k in K:\n",
    "        kmeanModel = KMeans(n_clusters=k).fit(sample)\n",
    "        kmeanModel.fit(sample)\n",
    "        distortions.append(sum(np.min(cdist(sample, kmeanModel.cluster_centers_, 'euclidean'), axis=1)) / sample.shape[0])\n",
    "\n",
    "    # Plot the elbow\n",
    "    plt.plot(K, distortions, 'bx-')\n",
    "    plt.xlabel('k')\n",
    "    plt.ylabel('Distortion')\n",
    "    plt.show()"
   ]
  },
  {
   "cell_type": "markdown",
   "metadata": {},
   "source": [
    "#### Total Products || HOD Groups || DOW Groups 2"
   ]
  },
  {
   "cell_type": "code",
   "execution_count": 29,
   "metadata": {},
   "outputs": [],
   "source": [
    "list_of_columns = ['total_prod_morning', 'total_prod_lunch', 'total_prod_afternoon','total_prod_evening',\\\n",
    "                  'total_prod_afterhours', 'total_prod_weekday', 'total_prod_weekend']"
   ]
  },
  {
   "cell_type": "code",
   "execution_count": 31,
   "metadata": {},
   "outputs": [
    {
     "data": {
      "image/png": "[encoded data removed]",
      "text/plain": [
       "<Figure size 432x288 with 1 Axes>"
      ]
     },
     "metadata": {
      "needs_background": "light"
     },
     "output_type": "display_data"
    }
   ],
   "source": [
    "kmeans_model_(user_summary, list_of_columns)"
   ]
  },
  {
   "cell_type": "markdown",
   "metadata": {},
   "source": [
    "#### Total Products || HOD Groups || DOW Groups 3"
   ]
  },
  {
   "cell_type": "code",
   "execution_count": 32,
   "metadata": {},
   "outputs": [],
   "source": [
    "list_of_columns = ['total_prod_morning', 'total_prod_lunch', 'total_prod_afternoon','total_prod_evening',\\\n",
    "                  'total_prod_afterhours', 'total_prod_early_week', 'total_prod_late_week','total_prod_weekend']"
   ]
  },
  {
   "cell_type": "code",
   "execution_count": 33,
   "metadata": {},
   "outputs": [
    {
     "data": {
      "image/png": "[encoded data removed]",
      "text/plain": [
       "<Figure size 432x288 with 1 Axes>"
      ]
     },
     "metadata": {
      "needs_background": "light"
     },
     "output_type": "display_data"
    }
   ],
   "source": [
    "kmeans_model_(user_summary, list_of_columns)"
   ]
  },
  {
   "cell_type": "markdown",
   "metadata": {},
   "source": [
    "#### Percent Products || HOD Groups || DOW Groups 2"
   ]
  },
  {
   "cell_type": "code",
   "execution_count": 37,
   "metadata": {},
   "outputs": [],
   "source": [
    "list_of_columns = ['per_prod_morning', 'per_prod_lunch', 'per_prod_afternoon', 'per_prod_evening',\\\n",
    "                  'per_prod_afterhours', 'per_prod_weekday', 'per_prod_weekend']"
   ]
  },
  {
   "cell_type": "code",
   "execution_count": 38,
   "metadata": {},
   "outputs": [
    {
     "data": {
      "image/png": "[encoded data removed]",
      "text/plain": [
       "<Figure size 432x288 with 1 Axes>"
      ]
     },
     "metadata": {
      "needs_background": "light"
     },
     "output_type": "display_data"
    }
   ],
   "source": [
    "kmeans_model_(user_summary, list_of_columns)"
   ]
  },
  {
   "cell_type": "markdown",
   "metadata": {},
   "source": [
    "#### Percent Products || HOD Groups || DOW Groups 3"
   ]
  },
  {
   "cell_type": "code",
   "execution_count": 39,
   "metadata": {},
   "outputs": [],
   "source": [
    "list_of_columns = ['per_prod_morning', 'per_prod_lunch', 'per_prod_afternoon','per_prod_evening',\\\n",
    "                  'per_prod_afterhours', 'per_prod_early_week', 'per_prod_late_week','per_prod_weekend']"
   ]
  },
  {
   "cell_type": "code",
   "execution_count": 40,
   "metadata": {},
   "outputs": [
    {
     "data": {
      "image/png": "[encoded data removed]",
      "text/plain": [
       "<Figure size 432x288 with 1 Axes>"
      ]
     },
     "metadata": {
      "needs_background": "light"
     },
     "output_type": "display_data"
    }
   ],
   "source": [
    "kmeans_model_(user_summary, list_of_columns)"
   ]
  },
  {
   "cell_type": "markdown",
   "metadata": {},
   "source": [
    "#### DOW, HOD, total_orders, med_products, med_reordered, total_days"
   ]
  },
  {
   "cell_type": "code",
   "execution_count": 41,
   "metadata": {},
   "outputs": [],
   "source": [
    "list_of_columns = ['total_prod_morning', 'total_prod_lunch', 'total_prod_afternoon','total_prod_evening',\\\n",
    "                   'total_prod_afterhours', 'total_prod_weekday', 'total_prod_weekend', 'total_orders',\\\n",
    "                   'med_products', 'med_reordered', 'total_days']"
   ]
  },
  {
   "cell_type": "code",
   "execution_count": 42,
   "metadata": {},
   "outputs": [
    {
     "data": {
      "image/png": "[encoded data removed]",
      "text/plain": [
       "<Figure size 432x288 with 1 Axes>"
      ]
     },
     "metadata": {
      "needs_background": "light"
     },
     "output_type": "display_data"
    }
   ],
   "source": [
    "kmeans_model_(user_summary, list_of_columns)"
   ]
  },
  {
   "cell_type": "markdown",
   "metadata": {},
   "source": [
    "#### Total Products || HOD Groups || DOW Groups 3 || med_reordered"
   ]
  },
  {
   "cell_type": "code",
   "execution_count": 43,
   "metadata": {},
   "outputs": [],
   "source": [
    "list_of_columns = ['total_prod_morning', 'total_prod_lunch', 'total_prod_afternoon','total_prod_evening',\\\n",
    "                   'total_prod_afterhours', 'total_prod_weekday', 'total_prod_weekend', 'med_reordered']"
   ]
  },
  {
   "cell_type": "code",
   "execution_count": 44,
   "metadata": {},
   "outputs": [
    {
     "data": {
      "image/png": "[encoded data removed]",
      "text/plain": [
       "<Figure size 432x288 with 1 Axes>"
      ]
     },
     "metadata": {
      "needs_background": "light"
     },
     "output_type": "display_data"
    }
   ],
   "source": [
    "kmeans_model_(user_summary, list_of_columns)"
   ]
  },
  {
   "cell_type": "code",
   "execution_count": 45,
   "metadata": {},
   "outputs": [
    {
     "data": {
      "text/plain": [
       "KMeans(algorithm='auto', copy_x=True, init='k-means++', max_iter=300,\n",
       "       n_clusters=7, n_init=10, n_jobs=None, precompute_distances='auto',\n",
       "       random_state=None, tol=0.0001, verbose=0)"
      ]
     },
     "execution_count": 45,
     "metadata": {},
     "output_type": "execute_result"
    }
   ],
   "source": [
    "kmeans.set_params(n_clusters=7)\n",
    "kmeans.fit(df)"
   ]
  },
  {
   "cell_type": "code",
   "execution_count": 49,
   "metadata": {},
   "outputs": [
    {
     "data": {
      "text/plain": [
       "3    29559\n",
       "6    29541\n",
       "1    29505\n",
       "2    29460\n",
       "4    29414\n",
       "0    29375\n",
       "5    29355\n",
       "dtype: int64"
      ]
     },
     "execution_count": 49,
     "metadata": {},
     "output_type": "execute_result"
    }
   ],
   "source": [
    "pd.Series(kmeans.labels_).value_counts()"
   ]
  },
  {
   "cell_type": "code",
   "execution_count": 46,
   "metadata": {
    "collapsed": true
   },
   "outputs": [
    {
     "data": {
      "text/plain": [
       "array([[1.62175000e+05, 1.60070478e+01, 1.63506929e+02, 4.18014368e+00,\n",
       "        1.80172960e+01, 9.60748698e+00, 1.00359398e+01, 4.33739628e+00,\n",
       "        8.32422449e-01, 4.82224634e-01, 4.67764440e-01, 2.86211600e-01,\n",
       "        1.53414695e+02, 6.00977154e+00, 2.67769228e+01, 1.53583467e+01,\n",
       "        1.56337553e+01, 6.89821091e+00, 3.17703177e+01, 2.81149093e+01,\n",
       "        2.10929829e+01, 1.92595758e+01, 1.88707569e+01, 2.14565728e+01,\n",
       "        2.29393960e+01, 5.98852269e+01, 1.03619284e+02, 4.43959688e+01,\n",
       "        5.92233155e+01, 1.91129600e-01, 1.69322466e-01, 1.33375634e-01,\n",
       "        1.21812759e-01, 1.16584868e-01, 1.27736888e-01, 1.40037786e-01,\n",
       "        3.60452066e-01, 6.39547934e-01, 3.71773261e-01, 2.67774673e-01,\n",
       "        1.04368254e+00, 5.78393654e-01, 3.63215417e-01, 2.61516462e-01,\n",
       "        2.64035954e-01, 4.42851793e-01, 1.46552722e+00, 4.33876953e+00,\n",
       "        8.54472098e+00, 1.22322359e+01, 1.39859045e+01, 1.39155630e+01,\n",
       "        1.33291682e+01, 1.33943345e+01, 1.36806714e+01, 1.34657315e+01,\n",
       "        1.28029689e+01, 1.06063123e+01, 8.28099145e+00, 6.45361070e+00,\n",
       "        4.84174866e+00, 4.01181437e+00, 3.21902557e+00, 1.98171666e+00,\n",
       "        4.05671581e+01, 4.06390657e+01, 3.99493718e+01, 3.41944775e+01,\n",
       "        8.15443805e+00, 6.93234853e-03, 3.87082422e-03, 2.64287772e-03,\n",
       "        1.90504338e-03, 1.72922889e-03, 2.69096068e-03, 8.22358084e-03,\n",
       "        2.30743528e-02, 4.68970480e-02, 7.05489425e-02, 8.19601080e-02,\n",
       "        8.48626482e-02, 8.30501582e-02, 8.19930687e-02, 8.46098728e-02,\n",
       "        8.35300021e-02, 8.05429513e-02, 6.96012693e-02, 5.51807371e-02,\n",
       "        4.25131652e-02, 2.98365520e-02, 2.33947165e-02, 1.83112315e-02,\n",
       "        1.20983114e-02, 2.30704032e-01, 2.49905875e-01, 2.48682826e-01,\n",
       "        2.20526440e-01, 5.01808264e-02],\n",
       "       [7.38635000e+04, 1.62936831e+01, 1.65886641e+02, 4.16053274e+00,\n",
       "        1.80872645e+01, 9.63030365e+00, 1.00591542e+01, 4.34947959e+00,\n",
       "        8.32044996e-01, 4.83009638e-01, 4.68418379e-01, 2.85457145e-01,\n",
       "        1.55754067e+02, 6.03368578e+00, 2.68027992e+01, 1.52834147e+01,\n",
       "        1.56008305e+01, 6.88813486e+00, 3.18554629e+01, 2.90593060e+01,\n",
       "        2.16714111e+01, 1.96629389e+01, 1.94165311e+01, 2.13919615e+01,\n",
       "        2.28272333e+01, 6.09147689e+01, 1.04970076e+02, 4.42191948e+01,\n",
       "        6.07508811e+01, 1.88292097e-01, 1.71344793e-01, 1.33190113e-01,\n",
       "        1.22920327e-01, 1.18290652e-01, 1.26599473e-01, 1.39362546e-01,\n",
       "        3.59636889e-01, 6.40363111e-01, 3.74401092e-01, 2.65962019e-01,\n",
       "        1.12596584e+00, 5.88179477e-01, 3.55530704e-01, 2.55659482e-01,\n",
       "        2.48813881e-01, 4.59299173e-01, 1.50050834e+00, 4.46085807e+00,\n",
       "        8.82726718e+00, 1.25398197e+01, 1.41304053e+01, 1.41035990e+01,\n",
       "        1.33399078e+01, 1.36911685e+01, 1.36713773e+01, 1.35477837e+01,\n",
       "        1.29166667e+01, 1.06863562e+01, 8.39463874e+00, 6.50965840e+00,\n",
       "        5.03954860e+00, 4.13653924e+00, 3.32486105e+00, 2.03043243e+00,\n",
       "        4.14588586e+01, 4.11346753e+01, 4.01358276e+01, 3.47667412e+01,\n",
       "        8.38874204e+00, 7.01892415e-03, 3.93598180e-03, 2.52569892e-03,\n",
       "        1.81144527e-03, 1.70744047e-03, 2.92657578e-03, 7.87380383e-03,\n",
       "        2.33123995e-02, 4.70699422e-02, 7.01216404e-02, 8.30544401e-02,\n",
       "        8.40764514e-02, 8.13784023e-02, 8.40891384e-02, 8.27603883e-02,\n",
       "        8.41064940e-02, 8.08402783e-02, 6.93202377e-02, 5.56992749e-02,\n",
       "        4.25185710e-02, 3.11225431e-02, 2.28284183e-02, 1.80220022e-02,\n",
       "        1.18795077e-02, 2.31432226e-01, 2.49543992e-01, 2.47707161e-01,\n",
       "        2.21489045e-01, 4.98275763e-02],\n",
       "       [1.03347500e+05, 1.63125933e+01, 1.64769722e+02, 4.15964019e+00,\n",
       "        1.80461303e+01, 9.56532587e+00, 1.00046684e+01, 4.33999465e+00,\n",
       "        8.33409864e-01, 4.85158523e-01, 4.70362864e-01, 2.85895533e-01,\n",
       "        1.54636388e+02, 6.03391039e+00, 2.67799728e+01, 1.53355567e+01,\n",
       "        1.56307521e+01, 6.87168743e+00, 3.16634759e+01, 2.88554311e+01,\n",
       "        2.12272234e+01, 1.95019348e+01, 1.93340462e+01, 2.13198574e+01,\n",
       "        2.28672777e+01, 6.05189070e+01, 1.04250339e+02, 4.41871351e+01,\n",
       "        6.00632043e+01, 1.89093524e-01, 1.70383435e-01, 1.32669230e-01,\n",
       "        1.24222848e-01, 1.17377231e-01, 1.26682736e-01, 1.39570997e-01,\n",
       "        3.59476958e-01, 6.40523042e-01, 3.74269308e-01, 2.66253733e-01,\n",
       "        1.13801765e+00, 5.83672777e-01, 3.63475900e-01, 2.71520706e-01,\n",
       "        2.80889341e-01, 4.67888663e-01, 1.46398506e+00, 4.53886626e+00,\n",
       "        8.59820095e+00, 1.24560421e+01, 1.40503394e+01, 1.39617108e+01,\n",
       "        1.33305838e+01, 1.33530210e+01, 1.36644942e+01, 1.35430414e+01,\n",
       "        1.29622539e+01, 1.05587576e+01, 8.36941616e+00, 6.39083503e+00,\n",
       "        5.01853360e+00, 4.05346232e+00, 3.20227427e+00, 2.14796334e+00,\n",
       "        4.11074338e+01, 4.06453157e+01, 4.01697895e+01, 3.43910048e+01,\n",
       "        8.45570265e+00, 7.28339462e-03, 4.00347778e-03, 2.44336716e-03,\n",
       "        1.93697434e-03, 1.72384081e-03, 2.84639638e-03, 7.79701410e-03,\n",
       "        2.36166134e-02, 4.71314228e-02, 7.09582996e-02, 8.29804269e-02,\n",
       "        8.45350170e-02, 8.16646734e-02, 8.18016017e-02, 8.31486081e-02,\n",
       "        8.39969803e-02, 8.15404355e-02, 6.94176636e-02, 5.49811574e-02,\n",
       "        4.19046251e-02, 3.01610289e-02, 2.28828752e-02, 1.86443217e-02,\n",
       "        1.25997842e-02, 2.32483777e-01, 2.48001292e-01, 2.48686024e-01,\n",
       "        2.19347350e-01, 5.14815570e-02],\n",
       "       [1.47825000e+04, 1.62123190e+01, 1.63541537e+02, 4.18654445e+00,\n",
       "        1.79477067e+01, 9.54309295e+00, 9.97928611e+00, 4.31280459e+00,\n",
       "        8.33810578e-01, 4.84793715e-01, 4.69943673e-01, 2.87224014e-01,\n",
       "        1.53491408e+02, 6.04732107e+00, 2.66902990e+01, 1.53102084e+01,\n",
       "        1.55927480e+01, 6.84238049e+00, 3.11358409e+01, 2.82182384e+01,\n",
       "        2.11086118e+01, 1.94823772e+01, 1.91706806e+01, 2.14669192e+01,\n",
       "        2.29613719e+01, 5.93540793e+01, 1.04189961e+02, 4.44282912e+01,\n",
       "        5.97616696e+01, 1.88612248e-01, 1.70276728e-01, 1.31941656e-01,\n",
       "        1.23162267e-01, 1.18190901e-01, 1.27917437e-01, 1.39898764e-01,\n",
       "        3.58888975e-01, 6.41111025e-01, 3.73294823e-01, 2.67816201e-01,\n",
       "        1.02029495e+00, 5.48132864e-01, 3.29420917e-01, 2.51183872e-01,\n",
       "        2.83655798e-01, 4.51122987e-01, 1.45751590e+00, 4.54272088e+00,\n",
       "        8.72334596e+00, 1.23447436e+01, 1.39049858e+01, 1.38074347e+01,\n",
       "        1.33048302e+01, 1.34900893e+01, 1.35349411e+01, 1.33845894e+01,\n",
       "        1.26775470e+01, 1.07307198e+01, 8.24793668e+00, 6.40813151e+00,\n",
       "        4.90383575e+00, 4.07806792e+00, 3.15654174e+00, 1.96225139e+00,\n",
       "        4.09733121e+01, 4.06023542e+01, 3.95970775e+01, 3.43686917e+01,\n",
       "        8.00260452e+00, 6.76624497e-03, 4.35751366e-03, 2.58633332e-03,\n",
       "        1.78618640e-03, 1.76761452e-03, 2.72784253e-03, 8.01099012e-03,\n",
       "        2.36092601e-02, 4.80911516e-02, 6.98047691e-02, 8.15165607e-02,\n",
       "        8.44667662e-02, 8.27863862e-02, 8.29973993e-02, 8.33015058e-02,\n",
       "        8.29360432e-02, 8.09564642e-02, 7.03402867e-02, 5.61766205e-02,\n",
       "        4.25054761e-02, 3.02764242e-02, 2.28390684e-02, 1.75858791e-02,\n",
       "        1.18072131e-02, 2.31032732e-01, 2.50250552e-01, 2.47194013e-01,\n",
       "        2.22137876e-01, 4.93848275e-02],\n",
       "       [1.32783500e+05, 1.61192370e+01, 1.62214504e+02, 4.11294710e+00,\n",
       "        1.78396573e+01, 9.47475520e+00, 9.90934245e+00, 4.30242139e+00,\n",
       "        8.33143808e-01, 4.82943345e-01, 4.68249324e-01, 2.87305304e-01,\n",
       "        1.52206820e+02, 6.12256902e+00, 2.67987896e+01, 1.53315653e+01,\n",
       "        1.56512031e+01, 6.86323830e+00, 3.16169251e+01, 2.78628791e+01,\n",
       "        2.09676323e+01, 1.93165375e+01, 1.88308174e+01, 2.10690874e+01,\n",
       "        2.25575615e+01, 5.94798042e+01, 1.02741636e+02, 4.36266490e+01,\n",
       "        5.91149871e+01, 1.86932040e-01, 1.71061612e-01, 1.33660439e-01,\n",
       "        1.23422601e-01, 1.18938618e-01, 1.29086794e-01, 1.36897896e-01,\n",
       "        3.57993652e-01, 6.42006348e-01, 3.76021659e-01, 2.65984690e-01,\n",
       "        1.09373725e+00, 6.03087175e-01, 3.53971168e-01, 2.49762002e-01,\n",
       "        2.44254046e-01, 4.40874473e-01, 1.45862233e+00, 4.49262206e+00,\n",
       "        8.55079559e+00, 1.22633959e+01, 1.35507956e+01, 1.35032980e+01,\n",
       "        1.29376105e+01, 1.33698490e+01, 1.34814361e+01, 1.34708962e+01,\n",
       "        1.27826737e+01, 1.05398477e+01, 8.28750170e+00, 6.35869713e+00,\n",
       "        4.92312661e+00, 4.01516388e+00, 3.22429621e+00, 2.02512580e+00,\n",
       "        4.03162315e+01, 3.98107575e+01, 3.97350061e+01, 3.41243370e+01,\n",
       "        8.23510812e+00, 7.15389247e-03, 4.20164914e-03, 2.40511706e-03,\n",
       "        1.60440860e-03, 1.66066290e-03, 2.86010876e-03, 7.92407554e-03,\n",
       "        2.39517460e-02, 4.66022699e-02, 7.06210344e-02, 8.22201269e-02,\n",
       "        8.28840855e-02, 8.05097506e-02, 8.34040229e-02, 8.36201878e-02,\n",
       "        8.50380908e-02, 8.13868055e-02, 6.96438584e-02, 5.56716942e-02,\n",
       "        4.20873720e-02, 3.06654197e-02, 2.29191212e-02, 1.85764140e-02,\n",
       "        1.23880857e-02, 2.31319253e-01, 2.46797859e-01, 2.50045084e-01,\n",
       "        2.20987465e-01, 5.08503386e-02],\n",
       "       [1.91535000e+05, 1.63156155e+01, 1.63465638e+02, 4.10886231e+00,\n",
       "        1.79027565e+01, 9.49652458e+00, 9.92409946e+00, 4.31250249e+00,\n",
       "        8.34545238e-01, 4.84543708e-01, 4.69684432e-01, 2.86785572e-01,\n",
       "        1.53457154e+02, 6.10347882e+00, 2.68136563e+01, 1.53828921e+01,\n",
       "        1.56707442e+01, 6.85860882e+00, 3.15855055e+01, 2.86459164e+01,\n",
       "        2.13035879e+01, 1.92196327e+01, 1.91692051e+01, 2.09003714e+01,\n",
       "        2.26359331e+01, 6.02314219e+01, 1.03228730e+02, 4.35363045e+01,\n",
       "        5.96924256e+01, 1.90197467e-01, 1.70100350e-01, 1.33040640e-01,\n",
       "        1.21090271e-01, 1.19902885e-01, 1.26901941e-01, 1.38732374e-01,\n",
       "        3.60297817e-01, 6.39668110e-01, 3.74033796e-01, 2.65634314e-01,\n",
       "        1.14262837e+00, 6.23087669e-01, 3.33537770e-01, 2.75137143e-01,\n",
       "        2.82190194e-01, 4.33302668e-01, 1.48645610e+00, 4.57136529e+00,\n",
       "        8.65358275e+00, 1.23938124e+01, 1.39406113e+01, 1.37852397e+01,\n",
       "        1.31552353e+01, 1.34453644e+01, 1.35941599e+01, 1.34885005e+01,\n",
       "        1.28482742e+01, 1.06554227e+01, 8.26293911e+00, 6.24968483e+00,\n",
       "        4.91434120e+00, 3.82016423e+00, 3.06886095e+00, 2.03625336e+00,\n",
       "        4.10458278e+01, 4.03858394e+01, 3.99309346e+01, 3.39025520e+01,\n",
       "        8.19499813e+00, 7.31970475e-03, 4.30225648e-03, 2.33081517e-03,\n",
       "        1.83603329e-03, 1.89645756e-03, 2.70990334e-03, 7.81229353e-03,\n",
       "        2.38789317e-02, 4.76725794e-02, 7.05874092e-02, 8.22814239e-02,\n",
       "        8.46232511e-02, 8.19219977e-02, 8.26512633e-02, 8.32717163e-02,\n",
       "        8.39276231e-02, 8.10681029e-02, 6.92551037e-02, 5.58490397e-02,\n",
       "        4.18694626e-02, 3.04222787e-02, 2.21788357e-02, 1.79061311e-02,\n",
       "        1.23933131e-02, 2.32232638e-01, 2.49196512e-01, 2.48267442e-01,\n",
       "        2.19574720e-01, 5.06946147e-02],\n",
       "       [4.43370000e+04, 1.63252665e+01, 1.64633508e+02, 4.14103909e+00,\n",
       "        1.79614148e+01, 9.54763919e+00, 9.97891479e+00, 4.32184714e+00,\n",
       "        8.34718744e-01, 4.85958789e-01, 4.70995655e-01, 2.86716816e-01,\n",
       "        1.54515993e+02, 6.09456761e+00, 2.68344221e+01, 1.52845828e+01,\n",
       "        1.56396087e+01, 6.85569182e+00, 3.21661533e+01, 2.85671010e+01,\n",
       "        2.12557455e+01, 1.92885767e+01, 1.90446776e+01, 2.12959215e+01,\n",
       "        2.30136741e+01, 6.07332544e+01, 1.03898595e+02, 4.43095955e+01,\n",
       "        5.95889998e+01, 1.91016752e-01, 1.69302628e-01, 1.33370334e-01,\n",
       "        1.21320867e-01, 1.17787274e-01, 1.27237220e-01, 1.39964926e-01,\n",
       "        3.60319380e-01, 6.39680620e-01, 3.72478474e-01, 2.67202146e-01,\n",
       "        1.17644271e+00, 5.97156879e-01, 3.67371806e-01, 2.60213234e-01,\n",
       "        2.87358267e-01, 4.24572686e-01, 1.44102217e+00, 4.56391944e+00,\n",
       "        8.77380267e+00, 1.23511254e+01, 1.40279574e+01, 1.37607379e+01,\n",
       "        1.33623963e+01, 1.35592148e+01, 1.37921137e+01, 1.34944322e+01,\n",
       "        1.28885767e+01, 1.04427145e+01, 8.35501777e+00, 6.35545778e+00,\n",
       "        4.91423253e+00, 4.09883229e+00, 3.27761042e+00, 2.05957015e+00,\n",
       "        4.11578270e+01, 4.06823490e+01, 4.01751227e+01, 3.41662549e+01,\n",
       "        8.45029616e+00, 7.76684423e-03, 3.89980841e-03, 2.57683656e-03,\n",
       "        1.83424377e-03, 1.90380782e-03, 2.65843473e-03, 7.85257224e-03,\n",
       "        2.37628409e-02, 4.70774677e-02, 6.98046467e-02, 8.33084522e-02,\n",
       "        8.41590281e-02, 8.26907842e-02, 8.16842474e-02, 8.45335615e-02,\n",
       "        8.45522485e-02, 8.12698351e-02, 6.76635917e-02, 5.56180473e-02,\n",
       "        4.15909323e-02, 3.01014283e-02, 2.27246138e-02, 1.86756506e-02,\n",
       "        1.22900760e-02, 2.31805980e-01, 2.48534060e-01, 2.50355645e-01,\n",
       "        2.17698613e-01, 5.16057021e-02]])"
      ]
     },
     "execution_count": 46,
     "metadata": {},
     "output_type": "execute_result"
    }
   ],
   "source": [
    "kmeans.cluster_centers_"
   ]
  },
  {
   "cell_type": "code",
   "execution_count": 47,
   "metadata": {},
   "outputs": [
    {
     "data": {
      "text/plain": [
       "array([3, 3, 3, ..., 5, 5, 5], dtype=int32)"
      ]
     },
     "execution_count": 47,
     "metadata": {},
     "output_type": "execute_result"
    }
   ],
   "source": [
    "kmeans.labels_"
   ]
  },
  {
   "cell_type": "code",
   "execution_count": null,
   "metadata": {},
   "outputs": [],
   "source": []
  },
  {
   "cell_type": "code",
   "execution_count": null,
   "metadata": {},
   "outputs": [],
   "source": []
  },
  {
   "cell_type": "code",
   "execution_count": null,
   "metadata": {},
   "outputs": [],
   "source": []
  },
  {
   "cell_type": "code",
   "execution_count": null,
   "metadata": {},
   "outputs": [],
   "source": []
  },
  {
   "cell_type": "code",
   "execution_count": null,
   "metadata": {},
   "outputs": [],
   "source": []
  },
  {
   "cell_type": "code",
   "execution_count": null,
   "metadata": {},
   "outputs": [],
   "source": []
  },
  {
   "cell_type": "code",
   "execution_count": null,
   "metadata": {},
   "outputs": [],
   "source": []
  },
  {
   "cell_type": "code",
   "execution_count": null,
   "metadata": {},
   "outputs": [],
   "source": []
  },
  {
   "cell_type": "code",
   "execution_count": null,
   "metadata": {},
   "outputs": [],
   "source": []
  },
  {
   "cell_type": "code",
   "execution_count": null,
   "metadata": {},
   "outputs": [],
   "source": []
  },
  {
   "cell_type": "markdown",
   "metadata": {},
   "source": [
    "##### BASE"
   ]
  },
  {
   "cell_type": "code",
   "execution_count": null,
   "metadata": {},
   "outputs": [],
   "source": [
    "distortions = []\n",
    "K = range(1,10)\n",
    "for k in K:\n",
    "    kmeanModel = KMeans(n_clusters=k).fit(df)\n",
    "    kmeanModel.fit(df)\n",
    "    distortions.append(sum(np.min(cdist(df, kmeanModel.cluster_centers_, 'euclidean'), axis=1)) / df.shape[0])\n",
    "\n",
    "# Plot the elbow\n",
    "plt.plot(K, distortions, 'bx-')\n",
    "plt.xlabel('k')\n",
    "plt.ylabel('Distortion')\n",
    "plt.show()"
   ]
  },
  {
   "cell_type": "code",
   "execution_count": null,
   "metadata": {},
   "outputs": [],
   "source": [
    "kmeans.set_params(n_clusters=3)\n",
    "kmeans.fit(df)"
   ]
  },
  {
   "cell_type": "code",
   "execution_count": null,
   "metadata": {},
   "outputs": [],
   "source": [
    "kmeans.cluster_centers_"
   ]
  },
  {
   "cell_type": "code",
   "execution_count": null,
   "metadata": {},
   "outputs": [],
   "source": [
    "kmeans.labels_"
   ]
  }
 ],
 "metadata": {
  "kernelspec": {
   "display_name": "Python 3",
   "language": "python",
   "name": "python3"
  },
  "language_info": {
   "codemirror_mode": {
    "name": "ipython",
    "version": 3
   },
   "file_extension": ".py",
   "mimetype": "text/x-python",
   "name": "python",
   "nbconvert_exporter": "python",
   "pygments_lexer": "ipython3",
   "version": "3.7.4"
  }
 },
 "nbformat": 4,
 "nbformat_minor": 2
}
