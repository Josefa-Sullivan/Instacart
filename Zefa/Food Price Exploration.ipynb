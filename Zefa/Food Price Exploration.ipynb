{
 "cells": [
  {
   "cell_type": "code",
   "execution_count": 2,
   "metadata": {},
   "outputs": [],
   "source": [
    "import numpy as np\n",
    "import pandas as pd\n",
    "\n",
    "# Kaggle Dataset https://www.kaggle.com/jboysen/global-food-prices\n",
    "test = pd.read_csv('../../global-food-prices/wfp_market_food_prices.csv',  encoding = \"ISO-8859-1\")"
   ]
  },
  {
   "cell_type": "code",
   "execution_count": 4,
   "metadata": {
    "scrolled": true
   },
   "outputs": [
    {
     "data": {
      "text/plain": [
       "Index(['adm0_id', 'adm0_name', 'adm1_id', 'adm1_name', 'mkt_id', 'mkt_name',\n",
       "       'cm_id', 'cm_name', 'cur_id', 'cur_name', 'pt_id', 'pt_name', 'um_id',\n",
       "       'um_name', 'mp_month', 'mp_year', 'mp_price', 'mp_commoditysource'],\n",
       "      dtype='object')"
      ]
     },
     "execution_count": 4,
     "metadata": {},
     "output_type": "execute_result"
    }
   ],
   "source": [
    "test.columns"
   ]
  },
  {
   "cell_type": "code",
   "execution_count": 9,
   "metadata": {
    "scrolled": false
   },
   "outputs": [
    {
     "data": {
      "text/plain": [
       "array(['Bread', 'Wheat', 'Rice (low quality)', 'Wage (qualified labour)',\n",
       "       'Livestock (sheep, one-year-old alive female)', 'Fuel (diesel)',\n",
       "       'Exchange rate', 'Wage (non-qualified labour, non-agricultural)',\n",
       "       'Rice', 'Beans (white)', 'Milk', 'Potatoes', 'Eggs',\n",
       "       'Meat (chicken)', 'Sugar', 'Lentils', 'Pasta', 'Tomatoes', 'Oil',\n",
       "       'Cheese (dry)', 'Carrots', 'Onions', 'Bananas', 'Tea',\n",
       "       'Fuel (petrol-gasoline)', 'Fish (canned)', 'Apples',\n",
       "       'Milk (camel)', 'Meat (camel)', 'Tea (sahm)', 'Wheat flour',\n",
       "       'Oil (vegetable)', 'Rice (white)', 'Meat (pork)', 'Meat (beef)',\n",
       "       'Cabbage', 'Apples (red)', 'Cucumbers (greenhouse)',\n",
       "       'Fuel (kerosene)', 'Fish (fresh)', 'Bread (high grade flour)',\n",
       "       'Bread (first grade flour)', 'Milk (non-pasteurized)',\n",
       "       'Rice (coarse)', 'Lentils (masur)', 'Oil (palm)',\n",
       "       'Rice (imported)', 'Sorghum', 'Maize (white)',\n",
       "       'Cassava meal (gari)', 'Maize', 'Millet', 'Rice (local)',\n",
       "       'Rice (imported, Indian)', 'Meat (beef, chops with bones)',\n",
       "       'Meat (chicken, whole)', 'Noodles (short)', 'Potatoes (Dutch)',\n",
       "       'Potatoes (Irish, imilla)', 'Rice (estaquilla)',\n",
       "       'Rice (long grain)', 'Bread (wheat)', 'Rice (good quality)',\n",
       "       'Rice (carolina 2da)', 'Rice (medium grain)', 'Potatoes (black)',\n",
       "       'Beans (niebe)', 'Beans', 'Cassava flour', 'Sweet potatoes',\n",
       "       'Rice (imported, Tanzanian)', 'Rice (high quality, local)',\n",
       "       'Rice (low quality, local)', 'Rice (mixed, low quality)',\n",
       "       'Wage (non-qualified labour)', 'Meat (pork, with fat)',\n",
       "       'Groundnuts (shelled)', 'Sorghum (white)', 'Sesame',\n",
       "       'Peas (yellow)', 'Soybeans', 'Sorghum (red)', 'Cassava (cossette)',\n",
       "       'Oil (groundnut)',\n",
       "       'Livestock (sheep, medium-sized castrated male)',\n",
       "       'Livestock (goat, medium-sized castrated male)',\n",
       "       'Sorghum (berbere)', 'Maize flour', 'Beans (red)', 'Garlic',\n",
       "       'Onions (red)', 'Onions (white)', 'Maize (yellow)', 'Plantains',\n",
       "       'Cocoa', 'Coffee', 'Fish (dry)', 'Salt', 'Rice (paddy)',\n",
       "       'Chickpeas (imported)', 'Eggs (white, AA)', 'Meat (beef, minced)',\n",
       "       'Peas (green, dry)', 'Potatoes (unica)', 'Sugar (brown)',\n",
       "       'Sugar (brown, loaf)', 'Cauliflower', 'Oranges (big size)',\n",
       "       'Beans (red, fresh)', 'Cassava (dry)', 'Spinach', 'Fish (tilapia)',\n",
       "       'Beans (string)', 'Guava', 'Papaya', 'Blackberry', 'Broccoli',\n",
       "       'Mangoes', 'Pumpkin', 'Tamarillos/tree tomatoes', 'Cheese',\n",
       "       'Lentils (imported)', 'Milk (pasteurized)', 'Coffee (instant)',\n",
       "       'Oil (sunflower)', 'Meat (chicken, frozen)', 'Cassava (fresh)',\n",
       "       'Fish (smoked)', 'Fish (salted)', 'Groundnuts (paste)',\n",
       "       'Beans (black)', 'Rice (milled 80-20)',\n",
       "       'Rice (denikassia, imported)', 'Yam (florido)', 'Cornstarch',\n",
       "       'Fish (appolo)', 'Peanut', 'Groundnuts', 'Cashew', 'Cotton',\n",
       "       'Maize meal', 'Cassava', 'Meat (goat, with bones)',\n",
       "       'Cassava (chikwangue)', 'Transport (public)', 'Beans (silk red)',\n",
       "       'Livestock (Goat)', 'Livestock (Sheep)', 'Beans (fava, dry)',\n",
       "       'Maize (local)', 'Groundnuts (unshelled)',\n",
       "       'Rice (long grain, imported)', 'Rice (medium grain, imported)',\n",
       "       'Rice (small grain, imported)', 'Fonio',\n",
       "       'Rice (paddy, long grain, local)', 'Rice (basmati, broken)',\n",
       "       'Potatoes (Irish)', 'Fish (bonga)', 'Meat (mutton)',\n",
       "       'Milk (powder)', 'Beans (dry)', 'Plantains (apentu)', 'Yam',\n",
       "       'Rice (ordinary, second quality)', 'Tortilla (maize)',\n",
       "       'Rice (ordinary, first quality)', 'Oil (vegetable, imported)',\n",
       "       'Fish', 'Tomatoes (paste)', 'Beans (niebe, white)',\n",
       "       'Rice (tchako)', 'Wheat flour (imported)', 'Sugar (white)',\n",
       "       'Maize meal (local)', 'Maize flour (white)', 'Tea (black)',\n",
       "       'Oil (mustard)', 'Oil (soybean)', 'Lentils (moong)',\n",
       "       'Sugar (jaggery/gur)', 'Lentils (urad)', 'Ghee (vanaspati)',\n",
       "       'Salt (iodised)', 'Meat (chicken, broiler)', 'Chili (green)',\n",
       "       'Chili (red)', 'Milk (condensed)', 'Bread (khoboz)', 'Pulses',\n",
       "       'Oil (olive)', 'Chickpeas', 'Bulgur', 'Cheese (picon)',\n",
       "       'Fish (tuna, canned)', 'Bread (pita)', 'Meat (lamb)',\n",
       "       'Cheese (white, boiled)', 'Cucumbers', 'Milk (cow, pasteurized)',\n",
       "       'Oil (cotton)', 'Tea (green)', 'Wheat flour (first grade)',\n",
       "       'Wheat flour (high quality)', 'Beans (kidney white)',\n",
       "       'Meat (beef, first quality)', 'Meat (beef, second quality)',\n",
       "       'Meat (buffalo, first quality)', 'Meat (buffalo, second quality)',\n",
       "       'Meat (pork, first quality)', 'Meat (pork, second quality)',\n",
       "       'Rice (glutinous, first quality)',\n",
       "       'Rice (glutinous, second quality)', 'Rice (glutinous, unmilled)',\n",
       "       'Rice (ordinary, unmilled)', 'Garlic (small)', 'Fish (snake head)',\n",
       "       'Fish (catfish)', 'Fish (tilapia, farmed)',\n",
       "       'Rice (imported, Egyptian)', 'Lettuce', 'Meat (beef, canned)',\n",
       "       'Fish (sardine, canned)', 'Bread (brown)', 'Peas (split, dry)',\n",
       "       'Beans (sugar-red)', 'Cowpeas', 'Rice (white, imported)',\n",
       "       'Sorghum (taghalit)', 'Wheat flour (local)',\n",
       "       'Maize meal (white, first grade)', 'Oil (vegetable, local)',\n",
       "       'Sugar (brown, imported)', 'Sugar (brown, local)',\n",
       "       'Groundnuts (Mix)', 'Beans (butter)', 'Beans (magnum)',\n",
       "       'Groundnuts (large, shelled)', 'Groundnuts (small, shelled)',\n",
       "       'Beans (catarino)', 'Maize meal (white, without bran) ',\n",
       "       'Maize meal (white, with bran)', 'Rice (high quality)',\n",
       "       'Chickpeas (local)', 'Oil (mixed, imported)', 'Cowpeas (white)',\n",
       "       'Cowpeas (brown)', 'Sorghum (brown)', 'Gari (yellow)',\n",
       "       'Gari (white)', 'Yam (Abuja)', 'Oil (cooking)',\n",
       "       'Ghee (artificial)', 'Poultry', 'Beans(mash)',\n",
       "       'Wheat flour (locally processed)', 'Rice (regular, milled)',\n",
       "       'Beans (mung)', 'Maize flour (imported)', 'Sorghum flour',\n",
       "       'Peppers (green)', 'Eggplants', 'Charcoal', 'Passion fruit',\n",
       "       'Zucchini', 'Livestock (hen)', 'Avocados', 'Cassava leaves',\n",
       "       'Peas (fresh)', 'Peas (dry)', 'Livestock (cattle)',\n",
       "       'Livestock (pig)', 'Meat (goat)', 'Beans (green, fresh)',\n",
       "       'Maize (imported)', 'Rice (red nadu)', 'Beans (sugar) ',\n",
       "       'Bread (bakery)', 'Bread (shop)', 'Dates', 'Fuel (gas)',\n",
       "       'Livestock (sheep, two-year-old male)', 'Yogurt', 'Parsley',\n",
       "       'Beans (haricot)', 'Beans (kidney)', 'Eggs (imported)',\n",
       "       'Meat (chicken, imported)', 'Bread (common)', 'Meat (veal)',\n",
       "       'Milk (powder, infant formula)', 'Cocoa (powder, not sweetened)',\n",
       "       'Curd', 'Sour cream', 'Meat (mixed, sausage)', 'Beetroots',\n",
       "       'Butter', 'Buckwheat grits', 'Bread (rye)', 'Fat (salo)',\n",
       "       'Beans (kidney red)', 'Peas (yellow, split)', 'Cassava meal',\n",
       "       'Maize meal (white, roller)', 'Maize meal (white, breakfast)',\n",
       "       'Bananas (medium size)', 'Fish (red snapper)',\n",
       "       'Onions (dry, local)', 'Potatoes (medium size)',\n",
       "       'Tomatoes (greenhouse)', 'Oil (maize)', 'Labaneh', 'Cheese (goat)',\n",
       "       'Fish (frozen)', 'Water (drinking)', 'Sorghum (food aid)',\n",
       "       'Ghee (natural)', 'Oil (mixed)', 'Meat (beef, without bones)',\n",
       "       'Exchange rate (unofficial)', 'Millet (white)'], dtype=object)"
      ]
     },
     "execution_count": 9,
     "metadata": {},
     "output_type": "execute_result"
    }
   ],
   "source": [
    "test.cm_name.unique()"
   ]
  },
  {
   "cell_type": "markdown",
   "metadata": {},
   "source": [
    "Kaggle data set is not broad enough for our purposes"
   ]
  },
  {
   "cell_type": "code",
   "execution_count": 9,
   "metadata": {},
   "outputs": [],
   "source": [
    "prices = pd.read_csv('prices.csv',  encoding = \"ISO-8859-1\")"
   ]
  },
  {
   "cell_type": "code",
   "execution_count": 5,
   "metadata": {
    "scrolled": true
   },
   "outputs": [
    {
     "data": {
      "text/html": [
       "<div>\n",
       "<style scoped>\n",
       "    .dataframe tbody tr th:only-of-type {\n",
       "        vertical-align: middle;\n",
       "    }\n",
       "\n",
       "    .dataframe tbody tr th {\n",
       "        vertical-align: top;\n",
       "    }\n",
       "\n",
       "    .dataframe thead th {\n",
       "        text-align: right;\n",
       "    }\n",
       "</style>\n",
       "<table border=\"1\" class=\"dataframe\">\n",
       "  <thead>\n",
       "    <tr style=\"text-align: right;\">\n",
       "      <th></th>\n",
       "      <th>Unnamed: 0</th>\n",
       "      <th>nameFD</th>\n",
       "      <th>nameFD.1</th>\n",
       "      <th>categoryFDO</th>\n",
       "      <th>categoryFDS</th>\n",
       "      <th>descFD</th>\n",
       "      <th>priceFD</th>\n",
       "      <th>priceFDt1</th>\n",
       "      <th>priceFDea</th>\n",
       "      <th>priceFDt4volweight</th>\n",
       "      <th>priceFDt5</th>\n",
       "      <th>priceFDt6</th>\n",
       "    </tr>\n",
       "  </thead>\n",
       "  <tbody>\n",
       "    <tr>\n",
       "      <td>7344</td>\n",
       "      <td>13765</td>\n",
       "      <td>CruditÃ©s Masterpiece, Small</td>\n",
       "      <td>CruditÃ©s Masterpiece, Small</td>\n",
       "      <td>cat_horsdoeuvr</td>\n",
       "      <td>catering</td>\n",
       "      <td>(9\", 2lb, Serves 4-6)</td>\n",
       "      <td>\\t\\t$30.00/ea</td>\n",
       "      <td>30.0</td>\n",
       "      <td>ea</td>\n",
       "      <td>NaN</td>\n",
       "      <td>NaN</td>\n",
       "      <td>NaN</td>\n",
       "    </tr>\n",
       "  </tbody>\n",
       "</table>\n",
       "</div>"
      ],
      "text/plain": [
       "      Unnamed: 0                        nameFD                      nameFD.1  \\\n",
       "7344       13765  CruditÃ©s Masterpiece, Small  CruditÃ©s Masterpiece, Small   \n",
       "\n",
       "         categoryFDO categoryFDS                 descFD        priceFD  \\\n",
       "7344  cat_horsdoeuvr    catering  (9\", 2lb, Serves 4-6)  \\t\\t$30.00/ea   \n",
       "\n",
       "      priceFDt1 priceFDea priceFDt4volweight priceFDt5 priceFDt6  \n",
       "7344       30.0        ea                NaN       NaN       NaN  "
      ]
     },
     "execution_count": 5,
     "metadata": {},
     "output_type": "execute_result"
    }
   ],
   "source": [
    "prices.sample()"
   ]
  },
  {
   "cell_type": "code",
   "execution_count": 6,
   "metadata": {},
   "outputs": [
    {
     "data": {
      "text/plain": [
       "(8370, 12)"
      ]
     },
     "execution_count": 6,
     "metadata": {},
     "output_type": "execute_result"
    }
   ],
   "source": [
    "prices.shape"
   ]
  }
 ],
 "metadata": {
  "kernelspec": {
   "display_name": "Python 3",
   "language": "python",
   "name": "python3"
  },
  "language_info": {
   "codemirror_mode": {
    "name": "ipython",
    "version": 3
   },
   "file_extension": ".py",
   "mimetype": "text/x-python",
   "name": "python",
   "nbconvert_exporter": "python",
   "pygments_lexer": "ipython3",
   "version": "3.7.4"
  }
 },
 "nbformat": 4,
 "nbformat_minor": 2
}
