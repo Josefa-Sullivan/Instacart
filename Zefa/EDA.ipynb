{
 "cells": [
  {
   "cell_type": "markdown",
   "metadata": {},
   "source": [
    "Data:\n",
    "\n",
    "aisles.csv: 134 aisle names\n",
    "\n",
    "departments.csv: 21 department names\n",
    "\n",
    "order_products__*.csv\n",
    "These files specify which products were purchased in each order. order_products__prior.csv contains previous order contents for all customers. 'reordered' indicates that the customer has a previous order that contains the product. Note that some orders will have no reordered items. You may predict an explicit 'None' value for orders with no reordered items.\n",
    "\n",
    "orders.csv\n",
    "Orders for each customer. Order_eval is for test-train-split purposes. 'order_dow' is the day of week."
   ]
  },
  {
   "cell_type": "code",
   "execution_count": 1,
   "metadata": {},
   "outputs": [
    {
     "data": {
      "text/plain": [
       "['aisles.csv',\n",
       " 'departments.csv',\n",
       " 'orders.csv',\n",
       " 'order_products__prior.csv',\n",
       " 'order_products__train.csv',\n",
       " 'products.csv',\n",
       " 'sample_submission.csv',\n",
       " 'user_summary.csv']"
      ]
     },
     "execution_count": 1,
     "metadata": {},
     "output_type": "execute_result"
    }
   ],
   "source": [
    "import numpy as np\n",
    "import pandas as pd\n",
    "import matplotlib as plt\n",
    "%matplotlib inline\n",
    "import seaborn as sns\n",
    "plt.style.use('ggplot')\n",
    "import os\n",
    "\n",
    "files = os.listdir('../data/')\n",
    "files"
   ]
  },
  {
   "cell_type": "markdown",
   "metadata": {},
   "source": [
    "Make a goods dataframe that has the following information for 49688 products:\n",
    "- product_id\t\n",
    "- product_name\t\n",
    "- aisle_id\t\n",
    "- department_id\t\n",
    "- department\taisle"
   ]
  },
  {
   "cell_type": "code",
   "execution_count": 20,
   "metadata": {},
   "outputs": [
    {
     "name": "stdout",
     "output_type": "stream",
     "text": [
      "(49688, 6)\n"
     ]
    },
    {
     "data": {
      "text/html": [
       "<div>\n",
       "<style scoped>\n",
       "    .dataframe tbody tr th:only-of-type {\n",
       "        vertical-align: middle;\n",
       "    }\n",
       "\n",
       "    .dataframe tbody tr th {\n",
       "        vertical-align: top;\n",
       "    }\n",
       "\n",
       "    .dataframe thead th {\n",
       "        text-align: right;\n",
       "    }\n",
       "</style>\n",
       "<table border=\"1\" class=\"dataframe\">\n",
       "  <thead>\n",
       "    <tr style=\"text-align: right;\">\n",
       "      <th></th>\n",
       "      <th>product_id</th>\n",
       "      <th>product_name</th>\n",
       "      <th>aisle_id</th>\n",
       "      <th>department_id</th>\n",
       "      <th>department</th>\n",
       "      <th>aisle</th>\n",
       "    </tr>\n",
       "  </thead>\n",
       "  <tbody>\n",
       "    <tr>\n",
       "      <td>0</td>\n",
       "      <td>1</td>\n",
       "      <td>chocolate_sandwich_cookies</td>\n",
       "      <td>61</td>\n",
       "      <td>19</td>\n",
       "      <td>snacks</td>\n",
       "      <td>cookies_cakes</td>\n",
       "    </tr>\n",
       "    <tr>\n",
       "      <td>1</td>\n",
       "      <td>2</td>\n",
       "      <td>all-seasons_salt</td>\n",
       "      <td>104</td>\n",
       "      <td>13</td>\n",
       "      <td>pantry</td>\n",
       "      <td>spices_seasonings</td>\n",
       "    </tr>\n",
       "    <tr>\n",
       "      <td>2</td>\n",
       "      <td>3</td>\n",
       "      <td>robust_golden_unsweetened_oolong_tea</td>\n",
       "      <td>94</td>\n",
       "      <td>7</td>\n",
       "      <td>beverages</td>\n",
       "      <td>tea</td>\n",
       "    </tr>\n",
       "    <tr>\n",
       "      <td>3</td>\n",
       "      <td>4</td>\n",
       "      <td>smart_ones_classic_favorites_mini_rigatoni_wit...</td>\n",
       "      <td>38</td>\n",
       "      <td>1</td>\n",
       "      <td>frozen</td>\n",
       "      <td>frozen_meals</td>\n",
       "    </tr>\n",
       "    <tr>\n",
       "      <td>4</td>\n",
       "      <td>5</td>\n",
       "      <td>green_chile_anytime_sauce</td>\n",
       "      <td>5</td>\n",
       "      <td>13</td>\n",
       "      <td>pantry</td>\n",
       "      <td>marinades_meat_preparation</td>\n",
       "    </tr>\n",
       "  </tbody>\n",
       "</table>\n",
       "</div>"
      ],
      "text/plain": [
       "   product_id                                       product_name  aisle_id  \\\n",
       "0           1                         chocolate_sandwich_cookies        61   \n",
       "1           2                                   all-seasons_salt       104   \n",
       "2           3               robust_golden_unsweetened_oolong_tea        94   \n",
       "3           4  smart_ones_classic_favorites_mini_rigatoni_wit...        38   \n",
       "4           5                          green_chile_anytime_sauce         5   \n",
       "\n",
       "   department_id department                       aisle  \n",
       "0             19     snacks               cookies_cakes  \n",
       "1             13     pantry           spices_seasonings  \n",
       "2              7  beverages                         tea  \n",
       "3              1     frozen                frozen_meals  \n",
       "4             13     pantry  marinades_meat_preparation  "
      ]
     },
     "execution_count": 20,
     "metadata": {},
     "output_type": "execute_result"
    }
   ],
   "source": [
    "aisles = pd.read_csv('../data/'+files[0])\n",
    "\n",
    "# missing is a purposeful value\n",
    "departments = pd.read_csv('../data/'+files[1])\n",
    "\n",
    "products = pd.read_csv('../data/'+files[5])\n",
    "\n",
    "## Merge aisle, department and products into one dataframe\n",
    "goods = pd.merge(left=pd.merge(left=products, right=departments, how='left'), right=aisles, how='left')\n",
    "\n",
    "# Replace spaces with '_' and retain '-' in product name and in aisle\n",
    "goods.product_name = goods.product_name.str.replace(' ', '_').str.lower() \n",
    "goods.aisle = goods.aisle.str.replace(' ', '_').str.lower() \n",
    "goods.department = goods.department.str.replace(' ', '_').str.lower() \n",
    "\n",
    "print(goods.shape)\n",
    "goods.head()"
   ]
  },
  {
   "cell_type": "code",
   "execution_count": 4,
   "metadata": {
    "scrolled": true
   },
   "outputs": [
    {
     "data": {
      "text/plain": [
       "(3421083, 7)"
      ]
     },
     "execution_count": 4,
     "metadata": {},
     "output_type": "execute_result"
    }
   ],
   "source": [
    "orders = pd.read_csv('../data/'+files[2])\n",
    "orders.shape"
   ]
  },
  {
   "cell_type": "markdown",
   "metadata": {},
   "source": [
    "Combine train and prior datasets to get 3346083 unique orders with 33819106 items"
   ]
  },
  {
   "cell_type": "code",
   "execution_count": 25,
   "metadata": {},
   "outputs": [],
   "source": [
    "prior_orders = pd.read_csv('../data/'+files[3])\n",
    "orders_train = pd.read_csv('../data/'+files[4])\n",
    "\n",
    "# Train set is not in prior so we should concatenate together\n",
    "list_ids = orders_train.order_id.unique()\n",
    "prior_orders.order_id.isin(list_ids).sum()\n",
    "\n",
    "all_prior_orders = pd.concat([prior_orders,orders_train])"
   ]
  },
  {
   "cell_type": "markdown",
   "metadata": {},
   "source": [
    "### Missing Values\n",
    "- Aisles: 0\n",
    "- Departments: 0 (labelled 'missing')\n",
    "- Orders: 6% of observations (206209/3421083), NaN indicates no items are re-ordered\n",
    "- Products: 0 "
   ]
  },
  {
   "cell_type": "code",
   "execution_count": 49,
   "metadata": {},
   "outputs": [
    {
     "data": {
      "text/plain": [
       "6.027594185817766"
      ]
     },
     "execution_count": 49,
     "metadata": {},
     "output_type": "execute_result"
    }
   ],
   "source": [
    "# Check null and na values\n",
    "aisles.isnull().sum()\n",
    "departments.isnull().sum()\n",
    "products.isnull().sum()\n",
    "orders.isnull().sum()\n",
    "\n",
    "# Calculate %items that are new orders\n",
    "orders.days_since_prior_order.isnull().sum()/orders.shape[0]*100"
   ]
  },
  {
   "cell_type": "code",
   "execution_count": 43,
   "metadata": {
    "scrolled": true
   },
   "outputs": [
    {
     "data": {
      "text/plain": [
       "array([nan, 15., 21., 29., 28., 19., 20., 14.,  0., 30., 10.,  3.,  8.,\n",
       "       13., 27.,  6.,  9., 12.,  7., 17., 11., 22.,  4.,  5.,  2., 23.,\n",
       "       26., 25., 16.,  1., 18., 24.])"
      ]
     },
     "execution_count": 43,
     "metadata": {},
     "output_type": "execute_result"
    }
   ],
   "source": [
    "orders.days_since_prior_order.unique()"
   ]
  },
  {
   "cell_type": "markdown",
   "metadata": {},
   "source": [
    "### Description:\n",
    "- 206209 customers\n",
    "- Orders per customer\n",
    "    - Average order number:  16.6\n",
    "    - Median order number:  10.0\n",
    "    - Max order number:  100\n",
    "    - Min Order number:  4"
   ]
  },
  {
   "cell_type": "code",
   "execution_count": 14,
   "metadata": {},
   "outputs": [],
   "source": [
    "orders.user_id.nlargest(1)\n",
    "df = orders.groupby('user_id').order_id.agg('count')"
   ]
  },
  {
   "cell_type": "code",
   "execution_count": 15,
   "metadata": {},
   "outputs": [
    {
     "name": "stdout",
     "output_type": "stream",
     "text": [
      "Average order number:  16.590367054784224\n",
      "Median order number:  10.0\n",
      "Max order number:  100\n",
      "Min order number:  4\n"
     ]
    },
    {
     "data": {
      "text/plain": [
       "Text(0, 0.5, 'Customer Number')"
      ]
     },
     "execution_count": 15,
     "metadata": {},
     "output_type": "execute_result"
    },
    {
     "data": {
      "image/png": "[encoded data removed]",
      "text/plain": [
       "<Figure size 432x288 with 1 Axes>"
      ]
     },
     "metadata": {
      "needs_background": "light"
     },
     "output_type": "display_data"
    }
   ],
   "source": [
    "# Most customers place 10 orders\n",
    "print('Average order number: ', np.mean(df))\n",
    "print('Median order number: ', np.median(df))\n",
    "print('Max order number: ', max(df))\n",
    "print('Min order number: ', min(df))\n",
    "\n",
    "plt.pyplot.hist(df)\n",
    "plt.pyplot.xlabel('Orders per Customer')\n",
    "plt.pyplot.ylabel('Customer Number')"
   ]
  },
  {
   "cell_type": "code",
   "execution_count": 93,
   "metadata": {},
   "outputs": [
    {
     "name": "stdout",
     "output_type": "stream",
     "text": [
      "Busiest Day: 0,  600905\n",
      "Slowest Day: 4,  426339\n"
     ]
    },
    {
     "data": {
      "text/plain": [
       "Text(0, 0.5, 'Number of Orders')"
      ]
     },
     "execution_count": 93,
     "metadata": {},
     "output_type": "execute_result"
    },
    {
     "data": {
      "image/png": "[encoded data removed]",
      "text/plain": [
       "<Figure size 432x288 with 1 Axes>"
      ]
     },
     "metadata": {
      "needs_background": "light"
     },
     "output_type": "display_data"
    }
   ],
   "source": [
    "dow = orders.groupby('order_dow').order_id.agg('count')\n",
    "\n",
    "print('Busiest Day: 0, ', max(dow))\n",
    "print('Slowest Day: 4, ', min(dow))\n",
    "\n",
    "plt.pyplot.bar(dow.index, dow)\n",
    "plt.pyplot.xlabel('Day')\n",
    "plt.pyplot.ylabel('Number of Orders')"
   ]
  },
  {
   "cell_type": "code",
   "execution_count": 90,
   "metadata": {},
   "outputs": [
    {
     "name": "stdout",
     "output_type": "stream",
     "text": [
      "Top 5 Busiest Hours:  order_hour_of_day\n",
      "10    288418\n",
      "11    284728\n",
      "15    283639\n",
      "14    283042\n",
      "13    277999\n",
      "Name: order_id, dtype: int64\n",
      "Slowest Hour:  order_hour_of_day\n",
      "3    5474\n",
      "4    5527\n",
      "2    7539\n",
      "5    9569\n",
      "Name: order_id, dtype: int64\n"
     ]
    },
    {
     "data": {
      "text/plain": [
       "Text(0, 0.5, 'Number of Orders')"
      ]
     },
     "execution_count": 90,
     "metadata": {},
     "output_type": "execute_result"
    },
    {
     "data": {
      "image/png": "[encoded data removed]",
      "text/plain": [
       "<Figure size 432x288 with 1 Axes>"
      ]
     },
     "metadata": {
      "needs_background": "light"
     },
     "output_type": "display_data"
    }
   ],
   "source": [
    "hours = orders.groupby('order_hour_of_day').order_id.agg('count')\n",
    "\n",
    "print('Top 5 Busiest Hours: ', hours.nlargest(5))\n",
    "print('Slowest Hour: ', hours.nsmallest(4))\n",
    "\n",
    "plt.pyplot.bar(hours.index, hours)\n",
    "plt.pyplot.xlabel('Hour of the Day')\n",
    "plt.pyplot.ylabel('Number of Orders')"
   ]
  },
  {
   "cell_type": "code",
   "execution_count": 91,
   "metadata": {},
   "outputs": [
    {
     "data": {
      "text/plain": [
       "Text(0, 0.5, 'Number of Orders')"
      ]
     },
     "execution_count": 91,
     "metadata": {},
     "output_type": "execute_result"
    },
    {
     "data": {
      "image/png": "[encoded data removed]",
      "text/plain": [
       "<Figure size 432x288 with 1 Axes>"
      ]
     },
     "metadata": {
      "needs_background": "light"
     },
     "output_type": "display_data"
    }
   ],
   "source": [
    "days_since = orders.groupby('days_since_prior_order').order_id.agg('count')\n",
    "\n",
    "plt.pyplot.bar(days_since.index, days_since)\n",
    "plt.pyplot.xlabel('Days Since Last Order')\n",
    "plt.pyplot.ylabel('Number of Orders')"
   ]
  },
  {
   "cell_type": "code",
   "execution_count": 87,
   "metadata": {
    "scrolled": false
   },
   "outputs": [
    {
     "name": "stdout",
     "output_type": "stream",
     "text": [
      "Average item number:  10.10707325550502\n",
      "Median item number:  8.0\n",
      "Max item number:  145\n",
      "Min item number:  1\n"
     ]
    },
    {
     "data": {
      "text/plain": [
       "Text(0, 0.5, 'Frequency')"
      ]
     },
     "execution_count": 87,
     "metadata": {},
     "output_type": "execute_result"
    },
    {
     "data": {
      "image/png": "[encoded data removed]",
      "text/plain": [
       "<Figure size 432x288 with 1 Axes>"
      ]
     },
     "metadata": {
      "needs_background": "light"
     },
     "output_type": "display_data"
    }
   ],
   "source": [
    "# Items per order\n",
    "x = all_prior_orders.groupby('order_id').product_id.agg('count')\n",
    "\n",
    "# Most customers place 10 orders\n",
    "print('Average item number: ', np.mean(x))\n",
    "print('Median item number: ', np.median(x))\n",
    "print('Max item number: ', max(x))\n",
    "print('Min item number: ', min(x))\n",
    "\n",
    "plt.pyplot.hist(x, bins =40)\n",
    "plt.pyplot.xlabel('Items per Order')\n",
    "plt.pyplot.ylabel('Frequency')"
   ]
  },
  {
   "cell_type": "code",
   "execution_count": 42,
   "metadata": {},
   "outputs": [],
   "source": [
    "full_prod_orders = pd.merge(all_prior_orders,goods, on = ['product_id','product_id'])"
   ]
  },
  {
   "cell_type": "code",
   "execution_count": 83,
   "metadata": {},
   "outputs": [
    {
     "data": {
      "text/plain": [
       "([0, 1, 2, 3, 4, 5, 6, 7, 8, 9], <a list of 10 Text xticklabel objects>)"
      ]
     },
     "execution_count": 83,
     "metadata": {},
     "output_type": "execute_result"
    },
    {
     "data": {
      "image/png": "[encoded data removed]",
      "text/plain": [
       "<Figure size 432x288 with 1 Axes>"
      ]
     },
     "metadata": {
      "needs_background": "light"
     },
     "output_type": "display_data"
    }
   ],
   "source": [
    "# Find the top 10 most popular items\n",
    "top10_products = full_prod_orders.groupby('product_id').product_name.agg('count').nlargest(10)\n",
    "top10_df = pd.merge(top10_products, full_prod_orders, how='left', on=['product_id', 'product_id'])\n",
    "top10_df = top10_df.loc[:,['product_id', 'product_name_y']]\n",
    "x = top10_df.groupby('product_name_y', as_index=False).agg('count').sort_values(by='product_id', ascending=False)\n",
    "\n",
    "plt.pyplot.bar(x.product_name_y, x.product_id)\n",
    "plt.pyplot.xlabel('Top 10 Items')\n",
    "plt.pyplot.ylabel('Item Frequency')\n",
    "plt.pyplot.xticks(rotation=90)"
   ]
  },
  {
   "cell_type": "code",
   "execution_count": 86,
   "metadata": {},
   "outputs": [
    {
     "data": {
      "text/plain": [
       "([0, 1, 2, 3, 4, 5, 6, 7, 8, 9], <a list of 10 Text xticklabel objects>)"
      ]
     },
     "execution_count": 86,
     "metadata": {},
     "output_type": "execute_result"
    },
    {
     "data": {
      "image/png": "[encoded data removed]",
      "text/plain": [
       "<Figure size 432x288 with 1 Axes>"
      ]
     },
     "metadata": {
      "needs_background": "light"
     },
     "output_type": "display_data"
    }
   ],
   "source": [
    "# Find the top 10 most popular departments based on items bought per department\n",
    "x = full_prod_orders.groupby('department_id').product_name.agg('count').nlargest(10)\n",
    "top10_df = pd.merge(x, full_prod_orders, how='left', on=['department_id', 'department_id'])\n",
    "top10_df = top10_df.loc[:,['department_id', 'department']]\n",
    "y = top10_df.groupby('department', as_index=False).agg('count').sort_values(by='department_id', ascending=False)\n",
    "\n",
    "plt.pyplot.bar(y.department, y.department_id)\n",
    "plt.pyplot.xlabel('Top 10 Departments')\n",
    "plt.pyplot.ylabel('Items Bought')\n",
    "plt.pyplot.xticks(rotation=90)"
   ]
  },
  {
   "cell_type": "code",
   "execution_count": 88,
   "metadata": {},
   "outputs": [
    {
     "data": {
      "text/plain": [
       "([0, 1, 2, 3, 4, 5, 6, 7, 8, 9], <a list of 10 Text xticklabel objects>)"
      ]
     },
     "execution_count": 88,
     "metadata": {},
     "output_type": "execute_result"
    },
    {
     "data": {
      "image/png": "[encoded data removed]",
      "text/plain": [
       "<Figure size 432x288 with 1 Axes>"
      ]
     },
     "metadata": {
      "needs_background": "light"
     },
     "output_type": "display_data"
    }
   ],
   "source": [
    "# Find the top 10 most popular aisles based on items bought per aisle\n",
    "x = full_prod_orders.groupby('aisle_id').product_name.agg('count').nlargest(10)\n",
    "top10_df = pd.merge(x, full_prod_orders, how='left', on=['aisle_id', 'aisle_id'])\n",
    "top10_df = top10_df.loc[:,['aisle_id', 'aisle']]\n",
    "y = top10_df.groupby('aisle', as_index=False).agg('count').sort_values(by='aisle_id', ascending=False)\n",
    "\n",
    "plt.pyplot.bar(y.aisle, y.aisle_id)\n",
    "plt.pyplot.xlabel('Top 10 Aisles')\n",
    "plt.pyplot.ylabel('Items Bought')\n",
    "plt.pyplot.xticks(rotation=90)"
   ]
  },
  {
   "cell_type": "markdown",
   "metadata": {},
   "source": [
    "### Conclusions\n",
    "\n",
    "1. Most customers place 10 orders (median)\n",
    "    - Maximum is 100 orders \n",
    "    - Minimum is 4 orders\n",
    "2. Orders, on average, contain 10 items\n",
    "    - Largest order is 145 items\n",
    "    - Smallest order is 1 item.\n",
    "2. Day 0-1 (assuming to be Saturday, Sunday) are the days with the most orders\n",
    "3. Peak ordering time is mid-day 9am-4pm \n",
    "4. Most re-orders are placed over a month or one week after the original order\n",
    "5. Bananas are the most ordered item\n",
    "    - 9/10 top items are produce\n",
    "    - 6/10 top items are organic\n",
    "6. Produce and Dairy/Eggs are the most popular departments (most items bought)\n",
    "7. Fresh fruits and veggies are the most popular aisles"
   ]
  },
  {
   "cell_type": "code",
   "execution_count": null,
   "metadata": {},
   "outputs": [],
   "source": []
  }
 ],
 "metadata": {
  "kernelspec": {
   "display_name": "Python 3",
   "language": "python",
   "name": "python3"
  },
  "language_info": {
   "codemirror_mode": {
    "name": "ipython",
    "version": 3
   },
   "file_extension": ".py",
   "mimetype": "text/x-python",
   "name": "python",
   "nbconvert_exporter": "python",
   "pygments_lexer": "ipython3",
   "version": "3.7.4"
  }
 },
 "nbformat": 4,
 "nbformat_minor": 2
}
