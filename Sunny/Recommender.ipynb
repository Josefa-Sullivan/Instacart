{
  "nbformat": 4,
  "nbformat_minor": 0,
  "metadata": {
    "colab": {
      "name": "Recommender.ipynb",
      "provenance": []
    },
    "kernelspec": {
      "name": "python3",
      "display_name": "Python 3"
    }
  },
  "cells": [
    {
      "cell_type": "code",
      "metadata": {
        "id": "NqJhz0XsXvAI",
        "colab_type": "code",
        "colab": {}
      },
      "source": [
        "import numpy as np \n",
        "import pandas as pd \n",
        "import random"
      ],
      "execution_count": 0,
      "outputs": []
    },
    {
      "cell_type": "markdown",
      "metadata": {
        "id": "96e0xsqDY-MO",
        "colab_type": "text"
      },
      "source": [
        "Read in files required:"
      ]
    },
    {
      "cell_type": "code",
      "metadata": {
        "id": "4BJkIgn8X-FW",
        "colab_type": "code",
        "colab": {}
      },
      "source": [
        "# from original dataset with some merging \n",
        "prod_aisles = pd.read_csv('prod_aisles.csv')\n",
        "orders = pd.read_csv('orders.csv')\n",
        "orders_prods = pd.read_csv('order_products_combined.csv')\n",
        "\n",
        "# top 100 products most frequently bought from each aisle \n",
        "top100_w_margins = pd.read_csv('top100_w_margins.csv').drop('Unnamed: 0', axis=1)\n",
        "\n",
        "# association rules for the produce cluster from unsuperivsed clustering\n",
        "cluster_top10 = pd.read_csv('cluster_top10.csv').drop('Unnamed: 0', axis=1)"
      ],
      "execution_count": 0,
      "outputs": []
    },
    {
      "cell_type": "markdown",
      "metadata": {
        "id": "8ccB6iWxbOjx",
        "colab_type": "text"
      },
      "source": [
        "Recommender Algorithm: "
      ]
    },
    {
      "cell_type": "code",
      "metadata": {
        "id": "edoAXB4UbN3A",
        "colab_type": "code",
        "colab": {}
      },
      "source": [
        "def recommender(str_list):\n",
        "  '''\n",
        "  Takes a list of product items as strings and returns\n",
        "  three recommended products\n",
        "  '''\n",
        "  str_list = list(map(str.lower, str_list))\n",
        "  aisles = pd.Series([prod_aisles.loc[prod_aisles['product_name'] == i, 'aisle_id'].iat[0] for i in str_list]).value_counts()\n",
        "\n",
        "  # Finding the majority aisle from the basket of items\n",
        "  if (aisles.iloc[0] == aisles.iloc[1:]).all() == True:\n",
        "    maj_aisle = random.choice(aisles.index)\n",
        "  else:\n",
        "    maj_aisle = aisles.idxmax(axis=0)\n",
        "\n",
        "  # Random sampling recommended aisles out of the top 10 highest lift-value aisles\n",
        "  max_sample = len(cluster_top10_test[cluster_top10_test['aisle_id_x'] == maj_aisle]['aisle_id_y'])\n",
        "  if max_sample == 0:\n",
        "    # if there were no strong association rules produced, sample from majority aisle\n",
        "    return list(top100_w_margins[top100_w_margins['aisle_id'] == maj_aisle].sample(3, weights='high_margin')['product_name'])\n",
        "  elif max_sample < 3:\n",
        "    #if there are less than 3 aisle lift rules\n",
        "    rec_aisle = cluster_top10_test[cluster_top10_test['aisle_id_x'] == maj_aisle].sample(max_sample, weights='weights')['aisle_id_y']\n",
        "  else:\n",
        "    #if there are more than 3 aisle lift rules\n",
        "    rec_aisle = cluster_top10_test[cluster_top10_test['aisle_id_x'] == maj_aisle].sample(3, weights='weights')['aisle_id_y']\n",
        "\n",
        "  # Random sample three items from recommended aisles\n",
        "  if len(rec_aisle) < 3:\n",
        "    return list(top100_w_margins[top100_w_margins['aisle_id'].isin(list(rec_aisle))].sample(3, weights='high_margin')['product_name'])\n",
        "  else:\n",
        "    return [top100_w_margins[top100_w_margins['aisle_id'] == i].sample(1, weights='high_margin')['product_name'].iloc[0] for i in rec_aisle]"
      ],
      "execution_count": 0,
      "outputs": []
    },
    {
      "cell_type": "code",
      "metadata": {
        "id": "AD8v2j_Lbga5",
        "colab_type": "code",
        "colab": {}
      },
      "source": [
        "recommender(['super greens salad'])"
      ],
      "execution_count": 0,
      "outputs": []
    }
  ]
}